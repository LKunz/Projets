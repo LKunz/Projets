{
 "cells": [
  {
   "cell_type": "markdown",
   "metadata": {
    "colab_type": "text",
    "id": "view-in-github"
   },
   "source": [
    "<a href=\"https://colab.research.google.com/github/michalis0/DataMining_and_MachineLearning/blob/master/week7/Text_Analytics_2.ipynb\" target=\"_parent\"><img src=\"https://colab.research.google.com/assets/colab-badge.svg\" alt=\"Open In Colab\"/></a>"
   ]
  },
  {
   "cell_type": "markdown",
   "metadata": {
    "id": "onO46LysT2dh"
   },
   "source": [
    "# Data Mining and Machine Learning - Week 7\n",
    "# Text Analytics 2\n",
    "\n",
    "[Text Analytics](https://people.ischool.berkeley.edu/~hearst/text-mining.html) (or text mining) is the process of deriving high-quality information from text. It involves \"the discovery by computer of new, previously unknown information, by automatically extracting information from different written resources.\" Written resources may include websites, books, emails, reviews, and articles.\n",
    "\n",
    "### This will be one of the most difficult lab sessions of the semester. Don't hesitate to ask if anything is unclear!\n",
    "\n",
    "### Table of Contents\n",
    "#### 0. Project: Git and GitHub\n",
    "#### 1. Recap on text representation\n",
    "* 1.1 Some important concepts\n",
    "* 1.2 Bag of Words (BOW)\n",
    "* 1.3 TF-IDF\n",
    "\n",
    "#### 2. Introduction to Gensim and Word Embedding\n",
    "* 2.1 Word embedding with Word2Vec\n",
    "* 2.2 Exercise\n",
    "\n",
    "#### 3. Complaints Classification: TF-IDF vs. Doc2Vec\n",
    "* 3.1 Load and clean data\n",
    "* 3.2 EDA\n",
    "* 3.3 Classification using TF-IDF and Logistic Regression\n",
    "* 3.4 Classification using Doc2Vec and Logistic Regression\n",
    "\n",
    "Author: Luc Kunz"
   ]
  },
  {
   "cell_type": "markdown",
   "metadata": {
    "id": "EcoTbUAtziKl"
   },
   "source": [
    "## 0. Project: Git and GitHub\n",
    "For the project, you will have to work with Git and GitHub. The following documentation can be useful to you:\n",
    "* [Git and GitHub tutorial for beginners](https://www.youtube.com/playlist?list=PL4cUxeGkcC9goXbgTDQ0n_4TBzOO0ocPR)\n",
    "* [GitHub Desktop video 1](https://www.youtube.com/watch?v=fJtyf62yAb8)\n",
    "* [GitHub Desktop video 2](https://www.youtube.com/watch?v=GqNAD4XoZ6k)\n",
    "* [Git Cheat Sheet](https://education.github.com/git-cheat-sheet-education.pdf)\n",
    "\n",
    "If you're having troubles completing your project using Git and/or GitHub Desktop, please let me know by email/slack and we can arrange an additional lab session on how to do a python project with Git and GitHub Desktop."
   ]
  },
  {
   "cell_type": "code",
   "execution_count": 1,
   "metadata": {
    "id": "M6OazeNbVotv"
   },
   "outputs": [],
   "source": [
    "# Import required packages\n",
    "import gensim\n",
    "import pandas as pd\n",
    "from sklearn.feature_extraction.text import CountVectorizer, TfidfVectorizer\n",
    "import bs4 as bs\n",
    "import urllib.request\n",
    "import spacy\n",
    "import string\n",
    "import math\n",
    "from gensim.models import Word2Vec\n",
    "import matplotlib.pyplot as plt\n",
    "import seaborn as sns\n",
    "\n",
    "# Load English language model of spacy\n",
    "sp = spacy.load('en_core_web_sm')\n",
    "\n",
    "# Warnings\n",
    "import warnings\n",
    "warnings.filterwarnings(\"ignore\")"
   ]
  },
  {
   "cell_type": "markdown",
   "metadata": {
    "id": "h0VsVUPLT4Tn"
   },
   "source": [
    "## 1. Recap on text representation\n",
    "In order to be able to use texts as inputs for classification, we have to transform them into numbers (i.e. vectors). There are several ways of doing this."
   ]
  },
  {
   "cell_type": "markdown",
   "metadata": {
    "id": "Q95eek-OIIPq"
   },
   "source": [
    "### 1.1 Some important concepts\n",
    "* Document = some text i.e. a string (e.g. a sentence, a tweet, paragraph of text, book, news article, etc.).\n",
    "* Corpus = collection of documents.\n",
    "* Dictionary = list of unique tokens in (preprocessed) corpus.\n",
    "* Vector = mathematical representatation of a document (e.g. Bag of Words).\n",
    "* Model = algorithm used for transforming vectors from one representation to another (e.g. TF-IDF)."
   ]
  },
  {
   "cell_type": "code",
   "execution_count": 2,
   "metadata": {
    "id": "CZ0TKUegLawc"
   },
   "outputs": [],
   "source": [
    "# A document\n",
    "doc = 'Tom confessed that he had fallen in love with me' # single quotes\n",
    "doc = \"Tom confessed that he had fallen in love with me\" # double quotes\n",
    "doc = \"\"\"Tom confessed that he had fallen in love with me.\"\"\" # triple quotes"
   ]
  },
  {
   "cell_type": "code",
   "execution_count": 3,
   "metadata": {
    "id": "i6jZsQ-LLbIG"
   },
   "outputs": [
    {
     "data": {
      "text/plain": [
       "[['tom',\n",
       "  'confessed',\n",
       "  'that',\n",
       "  'he',\n",
       "  'had',\n",
       "  'fallen',\n",
       "  'in',\n",
       "  'love',\n",
       "  'with',\n",
       "  'me'],\n",
       " ['we', 'musn', 'joke', 'around', 'with', 'love'],\n",
       " ['human',\n",
       "  'caused',\n",
       "  'climate',\n",
       "  'change',\n",
       "  'has',\n",
       "  'caused',\n",
       "  'land',\n",
       "  'ice',\n",
       "  'to',\n",
       "  'melt',\n",
       "  'and',\n",
       "  'ocean',\n",
       "  'water',\n",
       "  'to',\n",
       "  'expand'],\n",
       " ['climate', 'change', 'is', 'not', 'really', 'happening'],\n",
       " ['we', 'asked', 'tom', 'what', 'he', 'wanted', 'for', 'christmas']]"
      ]
     },
     "execution_count": 3,
     "metadata": {},
     "output_type": "execute_result"
    }
   ],
   "source": [
    "# A corpus\n",
    "d1 = \"Tom confessed that he had fallen in love with me\"\n",
    "d2 = \"We musn't joke around with love\"\n",
    "d3 = \"Human-caused climate change has caused land ice to melt and ocean water to expand\"\n",
    "d4 = \"Climate change is not really happening\"\n",
    "d5 = \"We asked Tom what he wanted for Christmas\"\n",
    "corpus = [d1, d2, d3, d4, d5]\n",
    "\n",
    "# Preprocessing\n",
    "from gensim.utils import simple_preprocess\n",
    "processed_corpus = []\n",
    "for doc in corpus:\n",
    "  processed_corpus.append(simple_preprocess(doc))\n",
    "processed_corpus"
   ]
  },
  {
   "cell_type": "code",
   "execution_count": 4,
   "metadata": {
    "id": "bHO4IVeaN03k"
   },
   "outputs": [
    {
     "name": "stdout",
     "output_type": "stream",
     "text": [
      "Dictionary<36 unique tokens: ['confessed', 'fallen', 'had', 'he', 'in']...>\n"
     ]
    }
   ],
   "source": [
    "# A dictionary\n",
    "from gensim import corpora\n",
    "dictionary = corpora.Dictionary(processed_corpus)\n",
    "print(dictionary)"
   ]
  },
  {
   "cell_type": "code",
   "execution_count": 5,
   "metadata": {
    "id": "M3v9-RrzN0rd"
   },
   "outputs": [
    {
     "data": {
      "text/plain": [
       "{'confessed': 0,\n",
       " 'fallen': 1,\n",
       " 'had': 2,\n",
       " 'he': 3,\n",
       " 'in': 4,\n",
       " 'love': 5,\n",
       " 'me': 6,\n",
       " 'that': 7,\n",
       " 'tom': 8,\n",
       " 'with': 9,\n",
       " 'around': 10,\n",
       " 'joke': 11,\n",
       " 'musn': 12,\n",
       " 'we': 13,\n",
       " 'and': 14,\n",
       " 'caused': 15,\n",
       " 'change': 16,\n",
       " 'climate': 17,\n",
       " 'expand': 18,\n",
       " 'has': 19,\n",
       " 'human': 20,\n",
       " 'ice': 21,\n",
       " 'land': 22,\n",
       " 'melt': 23,\n",
       " 'ocean': 24,\n",
       " 'to': 25,\n",
       " 'water': 26,\n",
       " 'happening': 27,\n",
       " 'is': 28,\n",
       " 'not': 29,\n",
       " 'really': 30,\n",
       " 'asked': 31,\n",
       " 'christmas': 32,\n",
       " 'for': 33,\n",
       " 'wanted': 34,\n",
       " 'what': 35}"
      ]
     },
     "execution_count": 5,
     "metadata": {},
     "output_type": "execute_result"
    }
   ],
   "source": [
    "dictionary.token2id"
   ]
  },
  {
   "cell_type": "markdown",
   "metadata": {
    "id": "cHvrJj5yT8uQ"
   },
   "source": [
    "### 1.2 Bag of Words (BOW)\n",
    "\n",
    "Bag of Words is the simplest approach to achieve the transformation of documents into vectors. It is divided into two basic steps:\n",
    "* Create a dictionary of unique words from the corpus.\n",
    "* Analyse the documents, i.e. for each word in the dictionary and each document, add 1 if the word is in the document, otherwise 0.\n",
    "\n",
    "Let's try to code it from scratch using spacy:"
   ]
  },
  {
   "cell_type": "code",
   "execution_count": 6,
   "metadata": {
    "id": "Ms5chNYf5lPt"
   },
   "outputs": [],
   "source": [
    "# Tokens in document\n",
    "def get_tokens(document):\n",
    "  doc_tokens = []\n",
    "  for token in sp(document):\n",
    "      if (token.is_punct == False) and (token.is_space == False):\n",
    "        doc_tokens.append(token.lower_)\n",
    "  return doc_tokens"
   ]
  },
  {
   "cell_type": "code",
   "execution_count": 7,
   "metadata": {
    "id": "KkeTK3afT0yz"
   },
   "outputs": [
    {
     "data": {
      "text/plain": [
       "['tom',\n",
       " 'confessed',\n",
       " 'that',\n",
       " 'he',\n",
       " 'had',\n",
       " 'fallen',\n",
       " 'in',\n",
       " 'love',\n",
       " 'with',\n",
       " 'me',\n",
       " 'we',\n",
       " \"musn't\",\n",
       " 'joke',\n",
       " 'around',\n",
       " 'human',\n",
       " 'caused',\n",
       " 'climate',\n",
       " 'change',\n",
       " 'has',\n",
       " 'land',\n",
       " 'ice',\n",
       " 'to',\n",
       " 'melt',\n",
       " 'and',\n",
       " 'ocean',\n",
       " 'water',\n",
       " 'expand',\n",
       " 'is',\n",
       " 'not',\n",
       " 'really',\n",
       " 'happening',\n",
       " 'asked',\n",
       " 'what',\n",
       " 'wanted',\n",
       " 'for',\n",
       " 'christmas']"
      ]
     },
     "execution_count": 7,
     "metadata": {},
     "output_type": "execute_result"
    }
   ],
   "source": [
    "# List of unique words in corpus (dictionary)\n",
    "def vocabulary(corpus):\n",
    "  # Delare output\n",
    "  word_list = []\n",
    "  # Loop documents - lower each word and add it to the output\n",
    "  for document in corpus:\n",
    "    spacy_doc = sp(document)\n",
    "    for token in spacy_doc:\n",
    "      if token.lower_ not in word_list and (token.is_punct == False) and (token.is_space == False):\n",
    "        word_list.append(token.lower_)\n",
    "  # Return output\n",
    "  return word_list\n",
    "    \n",
    "vocabulary(corpus)"
   ]
  },
  {
   "cell_type": "markdown",
   "metadata": {
    "id": "cFNFfyN6UkAh"
   },
   "source": [
    "We now have a function to get the words of a document and a function to get the unique words of a corpus of documents. We can use them to create the Bag of Words."
   ]
  },
  {
   "cell_type": "code",
   "execution_count": 8,
   "metadata": {
    "id": "_1DSadtqT1ri"
   },
   "outputs": [
    {
     "data": {
      "text/plain": [
       "{'tom': 1,\n",
       " 'confessed': 1,\n",
       " 'that': 1,\n",
       " 'he': 1,\n",
       " 'had': 1,\n",
       " 'fallen': 1,\n",
       " 'in': 1,\n",
       " 'love': 1,\n",
       " 'with': 1,\n",
       " 'me': 1,\n",
       " 'we': 0,\n",
       " \"musn't\": 0,\n",
       " 'joke': 0,\n",
       " 'around': 0,\n",
       " 'human': 0,\n",
       " 'caused': 0,\n",
       " 'climate': 0,\n",
       " 'change': 0,\n",
       " 'has': 0,\n",
       " 'land': 0,\n",
       " 'ice': 0,\n",
       " 'to': 0,\n",
       " 'melt': 0,\n",
       " 'and': 0,\n",
       " 'ocean': 0,\n",
       " 'water': 0,\n",
       " 'expand': 0,\n",
       " 'is': 0,\n",
       " 'not': 0,\n",
       " 'really': 0,\n",
       " 'happening': 0,\n",
       " 'asked': 0,\n",
       " 'what': 0,\n",
       " 'wanted': 0,\n",
       " 'for': 0,\n",
       " 'christmas': 0}"
      ]
     },
     "execution_count": 8,
     "metadata": {},
     "output_type": "execute_result"
    }
   ],
   "source": [
    "# Bag of Words\n",
    "def bow(document, corpus):\n",
    "  # Get tokens\n",
    "  doc_tokens = get_tokens(document)\n",
    "  corpus_tokens = vocabulary(corpus)\n",
    "  # Initialization\n",
    "  bag = {}\n",
    "  for token in corpus_tokens:\n",
    "    bag[token] = 0\n",
    "  # Add 1 if token is in document\n",
    "  for token in doc_tokens:\n",
    "    bag[token] += 1\n",
    "  # Return\n",
    "  return bag\n",
    "\n",
    "bow(d1, corpus)"
   ]
  },
  {
   "cell_type": "code",
   "execution_count": 9,
   "metadata": {
    "id": "EbfVjwmYYU0H"
   },
   "outputs": [
    {
     "data": {
      "text/html": [
       "<div>\n",
       "<style scoped>\n",
       "    .dataframe tbody tr th:only-of-type {\n",
       "        vertical-align: middle;\n",
       "    }\n",
       "\n",
       "    .dataframe tbody tr th {\n",
       "        vertical-align: top;\n",
       "    }\n",
       "\n",
       "    .dataframe thead th {\n",
       "        text-align: right;\n",
       "    }\n",
       "</style>\n",
       "<table border=\"1\" class=\"dataframe\">\n",
       "  <thead>\n",
       "    <tr style=\"text-align: right;\">\n",
       "      <th></th>\n",
       "      <th>tom</th>\n",
       "      <th>confessed</th>\n",
       "      <th>that</th>\n",
       "      <th>he</th>\n",
       "      <th>had</th>\n",
       "      <th>fallen</th>\n",
       "      <th>in</th>\n",
       "      <th>love</th>\n",
       "      <th>with</th>\n",
       "      <th>me</th>\n",
       "      <th>...</th>\n",
       "      <th>expand</th>\n",
       "      <th>is</th>\n",
       "      <th>not</th>\n",
       "      <th>really</th>\n",
       "      <th>happening</th>\n",
       "      <th>asked</th>\n",
       "      <th>what</th>\n",
       "      <th>wanted</th>\n",
       "      <th>for</th>\n",
       "      <th>christmas</th>\n",
       "    </tr>\n",
       "  </thead>\n",
       "  <tbody>\n",
       "    <tr>\n",
       "      <th>0</th>\n",
       "      <td>1</td>\n",
       "      <td>1</td>\n",
       "      <td>1</td>\n",
       "      <td>1</td>\n",
       "      <td>1</td>\n",
       "      <td>1</td>\n",
       "      <td>1</td>\n",
       "      <td>1</td>\n",
       "      <td>1</td>\n",
       "      <td>1</td>\n",
       "      <td>...</td>\n",
       "      <td>0</td>\n",
       "      <td>0</td>\n",
       "      <td>0</td>\n",
       "      <td>0</td>\n",
       "      <td>0</td>\n",
       "      <td>0</td>\n",
       "      <td>0</td>\n",
       "      <td>0</td>\n",
       "      <td>0</td>\n",
       "      <td>0</td>\n",
       "    </tr>\n",
       "    <tr>\n",
       "      <th>1</th>\n",
       "      <td>0</td>\n",
       "      <td>0</td>\n",
       "      <td>0</td>\n",
       "      <td>0</td>\n",
       "      <td>0</td>\n",
       "      <td>0</td>\n",
       "      <td>0</td>\n",
       "      <td>1</td>\n",
       "      <td>1</td>\n",
       "      <td>0</td>\n",
       "      <td>...</td>\n",
       "      <td>0</td>\n",
       "      <td>0</td>\n",
       "      <td>0</td>\n",
       "      <td>0</td>\n",
       "      <td>0</td>\n",
       "      <td>0</td>\n",
       "      <td>0</td>\n",
       "      <td>0</td>\n",
       "      <td>0</td>\n",
       "      <td>0</td>\n",
       "    </tr>\n",
       "    <tr>\n",
       "      <th>2</th>\n",
       "      <td>0</td>\n",
       "      <td>0</td>\n",
       "      <td>0</td>\n",
       "      <td>0</td>\n",
       "      <td>0</td>\n",
       "      <td>0</td>\n",
       "      <td>0</td>\n",
       "      <td>0</td>\n",
       "      <td>0</td>\n",
       "      <td>0</td>\n",
       "      <td>...</td>\n",
       "      <td>1</td>\n",
       "      <td>0</td>\n",
       "      <td>0</td>\n",
       "      <td>0</td>\n",
       "      <td>0</td>\n",
       "      <td>0</td>\n",
       "      <td>0</td>\n",
       "      <td>0</td>\n",
       "      <td>0</td>\n",
       "      <td>0</td>\n",
       "    </tr>\n",
       "    <tr>\n",
       "      <th>3</th>\n",
       "      <td>0</td>\n",
       "      <td>0</td>\n",
       "      <td>0</td>\n",
       "      <td>0</td>\n",
       "      <td>0</td>\n",
       "      <td>0</td>\n",
       "      <td>0</td>\n",
       "      <td>0</td>\n",
       "      <td>0</td>\n",
       "      <td>0</td>\n",
       "      <td>...</td>\n",
       "      <td>0</td>\n",
       "      <td>1</td>\n",
       "      <td>1</td>\n",
       "      <td>1</td>\n",
       "      <td>1</td>\n",
       "      <td>0</td>\n",
       "      <td>0</td>\n",
       "      <td>0</td>\n",
       "      <td>0</td>\n",
       "      <td>0</td>\n",
       "    </tr>\n",
       "    <tr>\n",
       "      <th>4</th>\n",
       "      <td>1</td>\n",
       "      <td>0</td>\n",
       "      <td>0</td>\n",
       "      <td>1</td>\n",
       "      <td>0</td>\n",
       "      <td>0</td>\n",
       "      <td>0</td>\n",
       "      <td>0</td>\n",
       "      <td>0</td>\n",
       "      <td>0</td>\n",
       "      <td>...</td>\n",
       "      <td>0</td>\n",
       "      <td>0</td>\n",
       "      <td>0</td>\n",
       "      <td>0</td>\n",
       "      <td>0</td>\n",
       "      <td>1</td>\n",
       "      <td>1</td>\n",
       "      <td>1</td>\n",
       "      <td>1</td>\n",
       "      <td>1</td>\n",
       "    </tr>\n",
       "  </tbody>\n",
       "</table>\n",
       "<p>5 rows × 36 columns</p>\n",
       "</div>"
      ],
      "text/plain": [
       "   tom  confessed  that  he  had  fallen  in  love  with  me  ...  expand  is  \\\n",
       "0    1          1     1   1    1       1   1     1     1   1  ...       0   0   \n",
       "1    0          0     0   0    0       0   0     1     1   0  ...       0   0   \n",
       "2    0          0     0   0    0       0   0     0     0   0  ...       1   0   \n",
       "3    0          0     0   0    0       0   0     0     0   0  ...       0   1   \n",
       "4    1          0     0   1    0       0   0     0     0   0  ...       0   0   \n",
       "\n",
       "   not  really  happening  asked  what  wanted  for  christmas  \n",
       "0    0       0          0      0     0       0    0          0  \n",
       "1    0       0          0      0     0       0    0          0  \n",
       "2    0       0          0      0     0       0    0          0  \n",
       "3    1       1          1      0     0       0    0          0  \n",
       "4    0       0          0      1     1       1    1          1  \n",
       "\n",
       "[5 rows x 36 columns]"
      ]
     },
     "execution_count": 9,
     "metadata": {},
     "output_type": "execute_result"
    }
   ],
   "source": [
    "# Dataframe - all documents in corpus\n",
    "bag_of_words = []\n",
    "for doc in corpus:\n",
    "  bag = bow(doc, corpus)\n",
    "  bag_of_words.append(bag)\n",
    "  \n",
    "pd.DataFrame(bag_of_words)"
   ]
  },
  {
   "cell_type": "markdown",
   "metadata": {
    "id": "yr1EQmIeYSqi"
   },
   "source": [
    "Remarks:\n",
    "* This is not perfect (e.g. we could remove stopwords, use n-grams, lemmas).\n",
    "* We can use [CountVectorizer](https://https://scikit-learn.org/stable/modules/generated/sklearn.feature_extraction.text.CountVectorizer.html) from sklearn as shown below."
   ]
  },
  {
   "cell_type": "code",
   "execution_count": 10,
   "metadata": {
    "id": "eTCKo-uohh_X"
   },
   "outputs": [
    {
     "data": {
      "text/plain": [
       "matrix([[0, 0, 0, 0, 0, 0, 0, 1, 0, 1, 0, 1, 0, 0, 1, 0, 0, 1, 0, 0, 0,\n",
       "         1, 1, 0, 0, 0, 0, 0, 1, 0, 1, 0, 0, 0, 0, 1],\n",
       "        [0, 1, 0, 0, 0, 0, 0, 0, 0, 0, 0, 0, 0, 0, 0, 0, 0, 0, 0, 1, 0,\n",
       "         1, 0, 0, 1, 0, 0, 0, 0, 0, 0, 0, 0, 1, 0, 1],\n",
       "        [1, 0, 0, 2, 1, 0, 1, 0, 1, 0, 0, 0, 0, 1, 0, 1, 1, 0, 0, 0, 1,\n",
       "         0, 0, 1, 0, 0, 1, 0, 0, 2, 0, 0, 1, 0, 0, 0],\n",
       "        [0, 0, 0, 0, 1, 0, 1, 0, 0, 0, 0, 0, 1, 0, 0, 0, 0, 0, 1, 0, 0,\n",
       "         0, 0, 0, 0, 1, 0, 1, 0, 0, 0, 0, 0, 0, 0, 0],\n",
       "        [0, 0, 1, 0, 0, 1, 0, 0, 0, 0, 1, 0, 0, 0, 1, 0, 0, 0, 0, 0, 0,\n",
       "         0, 0, 0, 0, 0, 0, 0, 0, 0, 1, 1, 0, 1, 1, 0]], dtype=int64)"
      ]
     },
     "execution_count": 10,
     "metadata": {},
     "output_type": "execute_result"
    }
   ],
   "source": [
    "# Using CountVectorizer\n",
    "vectorizer = CountVectorizer()\n",
    "bag_of_words = vectorizer.fit_transform(corpus).todense()\n",
    "bag_of_words"
   ]
  },
  {
   "cell_type": "code",
   "execution_count": 11,
   "metadata": {
    "id": "pG0HqjabiUam"
   },
   "outputs": [
    {
     "data": {
      "text/plain": [
       "{'tom': 30,\n",
       " 'confessed': 7,\n",
       " 'that': 28,\n",
       " 'he': 14,\n",
       " 'had': 11,\n",
       " 'fallen': 9,\n",
       " 'in': 17,\n",
       " 'love': 21,\n",
       " 'with': 35,\n",
       " 'me': 22,\n",
       " 'we': 33,\n",
       " 'musn': 24,\n",
       " 'joke': 19,\n",
       " 'around': 1,\n",
       " 'human': 15,\n",
       " 'caused': 3,\n",
       " 'climate': 6,\n",
       " 'change': 4,\n",
       " 'has': 13,\n",
       " 'land': 20,\n",
       " 'ice': 16,\n",
       " 'to': 29,\n",
       " 'melt': 23,\n",
       " 'and': 0,\n",
       " 'ocean': 26,\n",
       " 'water': 32,\n",
       " 'expand': 8,\n",
       " 'is': 18,\n",
       " 'not': 25,\n",
       " 'really': 27,\n",
       " 'happening': 12,\n",
       " 'asked': 2,\n",
       " 'what': 34,\n",
       " 'wanted': 31,\n",
       " 'for': 10,\n",
       " 'christmas': 5}"
      ]
     },
     "execution_count": 11,
     "metadata": {},
     "output_type": "execute_result"
    }
   ],
   "source": [
    "# Features\n",
    "vectorizer.vocabulary_"
   ]
  },
  {
   "cell_type": "code",
   "execution_count": 12,
   "metadata": {
    "id": "TYdVJrtTiSbZ"
   },
   "outputs": [
    {
     "data": {
      "text/html": [
       "<div>\n",
       "<style scoped>\n",
       "    .dataframe tbody tr th:only-of-type {\n",
       "        vertical-align: middle;\n",
       "    }\n",
       "\n",
       "    .dataframe tbody tr th {\n",
       "        vertical-align: top;\n",
       "    }\n",
       "\n",
       "    .dataframe thead th {\n",
       "        text-align: right;\n",
       "    }\n",
       "</style>\n",
       "<table border=\"1\" class=\"dataframe\">\n",
       "  <thead>\n",
       "    <tr style=\"text-align: right;\">\n",
       "      <th></th>\n",
       "      <th>and</th>\n",
       "      <th>around</th>\n",
       "      <th>asked</th>\n",
       "      <th>caused</th>\n",
       "      <th>change</th>\n",
       "      <th>christmas</th>\n",
       "      <th>climate</th>\n",
       "      <th>confessed</th>\n",
       "      <th>expand</th>\n",
       "      <th>fallen</th>\n",
       "      <th>...</th>\n",
       "      <th>ocean</th>\n",
       "      <th>really</th>\n",
       "      <th>that</th>\n",
       "      <th>to</th>\n",
       "      <th>tom</th>\n",
       "      <th>wanted</th>\n",
       "      <th>water</th>\n",
       "      <th>we</th>\n",
       "      <th>what</th>\n",
       "      <th>with</th>\n",
       "    </tr>\n",
       "  </thead>\n",
       "  <tbody>\n",
       "    <tr>\n",
       "      <th>0</th>\n",
       "      <td>0</td>\n",
       "      <td>0</td>\n",
       "      <td>0</td>\n",
       "      <td>0</td>\n",
       "      <td>0</td>\n",
       "      <td>0</td>\n",
       "      <td>0</td>\n",
       "      <td>1</td>\n",
       "      <td>0</td>\n",
       "      <td>1</td>\n",
       "      <td>...</td>\n",
       "      <td>0</td>\n",
       "      <td>0</td>\n",
       "      <td>1</td>\n",
       "      <td>0</td>\n",
       "      <td>1</td>\n",
       "      <td>0</td>\n",
       "      <td>0</td>\n",
       "      <td>0</td>\n",
       "      <td>0</td>\n",
       "      <td>1</td>\n",
       "    </tr>\n",
       "    <tr>\n",
       "      <th>1</th>\n",
       "      <td>0</td>\n",
       "      <td>1</td>\n",
       "      <td>0</td>\n",
       "      <td>0</td>\n",
       "      <td>0</td>\n",
       "      <td>0</td>\n",
       "      <td>0</td>\n",
       "      <td>0</td>\n",
       "      <td>0</td>\n",
       "      <td>0</td>\n",
       "      <td>...</td>\n",
       "      <td>0</td>\n",
       "      <td>0</td>\n",
       "      <td>0</td>\n",
       "      <td>0</td>\n",
       "      <td>0</td>\n",
       "      <td>0</td>\n",
       "      <td>0</td>\n",
       "      <td>1</td>\n",
       "      <td>0</td>\n",
       "      <td>1</td>\n",
       "    </tr>\n",
       "    <tr>\n",
       "      <th>2</th>\n",
       "      <td>1</td>\n",
       "      <td>0</td>\n",
       "      <td>0</td>\n",
       "      <td>2</td>\n",
       "      <td>1</td>\n",
       "      <td>0</td>\n",
       "      <td>1</td>\n",
       "      <td>0</td>\n",
       "      <td>1</td>\n",
       "      <td>0</td>\n",
       "      <td>...</td>\n",
       "      <td>1</td>\n",
       "      <td>0</td>\n",
       "      <td>0</td>\n",
       "      <td>2</td>\n",
       "      <td>0</td>\n",
       "      <td>0</td>\n",
       "      <td>1</td>\n",
       "      <td>0</td>\n",
       "      <td>0</td>\n",
       "      <td>0</td>\n",
       "    </tr>\n",
       "    <tr>\n",
       "      <th>3</th>\n",
       "      <td>0</td>\n",
       "      <td>0</td>\n",
       "      <td>0</td>\n",
       "      <td>0</td>\n",
       "      <td>1</td>\n",
       "      <td>0</td>\n",
       "      <td>1</td>\n",
       "      <td>0</td>\n",
       "      <td>0</td>\n",
       "      <td>0</td>\n",
       "      <td>...</td>\n",
       "      <td>0</td>\n",
       "      <td>1</td>\n",
       "      <td>0</td>\n",
       "      <td>0</td>\n",
       "      <td>0</td>\n",
       "      <td>0</td>\n",
       "      <td>0</td>\n",
       "      <td>0</td>\n",
       "      <td>0</td>\n",
       "      <td>0</td>\n",
       "    </tr>\n",
       "    <tr>\n",
       "      <th>4</th>\n",
       "      <td>0</td>\n",
       "      <td>0</td>\n",
       "      <td>1</td>\n",
       "      <td>0</td>\n",
       "      <td>0</td>\n",
       "      <td>1</td>\n",
       "      <td>0</td>\n",
       "      <td>0</td>\n",
       "      <td>0</td>\n",
       "      <td>0</td>\n",
       "      <td>...</td>\n",
       "      <td>0</td>\n",
       "      <td>0</td>\n",
       "      <td>0</td>\n",
       "      <td>0</td>\n",
       "      <td>1</td>\n",
       "      <td>1</td>\n",
       "      <td>0</td>\n",
       "      <td>1</td>\n",
       "      <td>1</td>\n",
       "      <td>0</td>\n",
       "    </tr>\n",
       "  </tbody>\n",
       "</table>\n",
       "<p>5 rows × 36 columns</p>\n",
       "</div>"
      ],
      "text/plain": [
       "   and  around  asked  caused  change  christmas  climate  confessed  expand  \\\n",
       "0    0       0      0       0       0          0        0          1       0   \n",
       "1    0       1      0       0       0          0        0          0       0   \n",
       "2    1       0      0       2       1          0        1          0       1   \n",
       "3    0       0      0       0       1          0        1          0       0   \n",
       "4    0       0      1       0       0          1        0          0       0   \n",
       "\n",
       "   fallen  ...  ocean  really  that  to  tom  wanted  water  we  what  with  \n",
       "0       1  ...      0       0     1   0    1       0      0   0     0     1  \n",
       "1       0  ...      0       0     0   0    0       0      0   1     0     1  \n",
       "2       0  ...      1       0     0   2    0       0      1   0     0     0  \n",
       "3       0  ...      0       1     0   0    0       0      0   0     0     0  \n",
       "4       0  ...      0       0     0   0    1       1      0   1     1     0  \n",
       "\n",
       "[5 rows x 36 columns]"
      ]
     },
     "execution_count": 12,
     "metadata": {},
     "output_type": "execute_result"
    }
   ],
   "source": [
    "# DataFrame\n",
    "bag_of_words = pd.DataFrame(bag_of_words, columns=vectorizer.get_feature_names_out())\n",
    "bag_of_words"
   ]
  },
  {
   "cell_type": "markdown",
   "metadata": {
    "id": "EoU9xUZLkAZu"
   },
   "source": [
    "Advantages of BOW:\n",
    "* No need of huge corpus of words to get good results in practice.\n",
    "* Easy to understand (i.e. not mathematically complex).\n",
    "\n",
    "Disadvantages of BOW:\n",
    "* A lot of zeros (imagine a corpus of 1000 articles) --> consume memory and space.\n",
    "* Does not maintain any context information (\"I eat a fish\" vs. \"A fish eats me\").\n",
    "* Half solutions: n-grams, specifiying min_df and max_df (see [documentation](https://https://scikit-learn.org/stable/modules/generated/sklearn.feature_extraction.text.CountVectorizer.html)).\n"
   ]
  },
  {
   "cell_type": "markdown",
   "metadata": {
    "id": "3CkpoOenUv7J"
   },
   "source": [
    "### 1.3 TF-IDF\n",
    "TF-IDF is a type of bag of words approach where instead of adding zeros and ones in the embedding vector, you add floating numbers that contain more useful information compared to zeros and ones. The idea is to emphasize words that appear in few documents in the corpus. A word that appear many times but only in one document will have a high value (close to one) compared to words that appear many times in many documents. This word is then very useful to identify the document.\n",
    "\n",
    "TF(word, document) = Term frequency = (Number of occurences of a word in document)/(Total words in the document)\n",
    "- greater if word appears many times in document\n",
    "\n",
    "IDF(word) = Inverse Document Frequency = Log((Total number of documents)/(Number of documents containing the word))\n",
    "- greater if word appears in fewer doucuments\n",
    "\n",
    "TF-IDF = TF*IDF"
   ]
  },
  {
   "cell_type": "code",
   "execution_count": 13,
   "metadata": {
    "id": "HsTBjUmWUywM"
   },
   "outputs": [
    {
     "data": {
      "text/plain": [
       "{'human': 0.06666666666666667,\n",
       " 'caused': 0.13333333333333333,\n",
       " 'climate': 0.06666666666666667,\n",
       " 'change': 0.06666666666666667,\n",
       " 'has': 0.06666666666666667,\n",
       " 'land': 0.06666666666666667,\n",
       " 'ice': 0.06666666666666667,\n",
       " 'to': 0.13333333333333333,\n",
       " 'melt': 0.06666666666666667,\n",
       " 'and': 0.06666666666666667,\n",
       " 'ocean': 0.06666666666666667,\n",
       " 'water': 0.06666666666666667,\n",
       " 'expand': 0.06666666666666667}"
      ]
     },
     "execution_count": 13,
     "metadata": {},
     "output_type": "execute_result"
    }
   ],
   "source": [
    "# Term frequency (TF)\n",
    "def tf(document):\n",
    "  # Get tokens\n",
    "  tokens = get_tokens(document)\n",
    "  # Initialization\n",
    "  term_freq = {}\n",
    "  for token in tokens:\n",
    "    term_freq[token] = 0\n",
    "  # Increment\n",
    "  for token in tokens:\n",
    "    term_freq[token] += 1/len(tokens)\n",
    "  # Return\n",
    "  return term_freq\n",
    "\n",
    "tf(d3)"
   ]
  },
  {
   "cell_type": "code",
   "execution_count": 14,
   "metadata": {
    "id": "s3h8kaUxrmn5"
   },
   "outputs": [
    {
     "data": {
      "text/plain": [
       "{'tom': 0.9162907318741551,\n",
       " 'confessed': 1.6094379124341003,\n",
       " 'that': 1.6094379124341003,\n",
       " 'he': 0.9162907318741551,\n",
       " 'had': 1.6094379124341003,\n",
       " 'fallen': 1.6094379124341003,\n",
       " 'in': 1.6094379124341003,\n",
       " 'love': 0.9162907318741551,\n",
       " 'with': 0.9162907318741551,\n",
       " 'me': 1.6094379124341003,\n",
       " 'we': 0.9162907318741551,\n",
       " \"musn't\": 1.6094379124341003,\n",
       " 'joke': 1.6094379124341003,\n",
       " 'around': 1.6094379124341003,\n",
       " 'human': 1.6094379124341003,\n",
       " 'caused': 1.6094379124341003,\n",
       " 'climate': 0.9162907318741551,\n",
       " 'change': 0.9162907318741551,\n",
       " 'has': 1.6094379124341003,\n",
       " 'land': 1.6094379124341003,\n",
       " 'ice': 1.6094379124341003,\n",
       " 'to': 1.6094379124341003,\n",
       " 'melt': 1.6094379124341003,\n",
       " 'and': 1.6094379124341003,\n",
       " 'ocean': 1.6094379124341003,\n",
       " 'water': 1.6094379124341003,\n",
       " 'expand': 1.6094379124341003,\n",
       " 'is': 1.6094379124341003,\n",
       " 'not': 1.6094379124341003,\n",
       " 'really': 1.6094379124341003,\n",
       " 'happening': 1.6094379124341003,\n",
       " 'asked': 1.6094379124341003,\n",
       " 'what': 1.6094379124341003,\n",
       " 'wanted': 1.6094379124341003,\n",
       " 'for': 1.6094379124341003,\n",
       " 'christmas': 1.6094379124341003}"
      ]
     },
     "execution_count": 14,
     "metadata": {},
     "output_type": "execute_result"
    }
   ],
   "source": [
    "# Inverse document frequency\n",
    "def idf(corpus):\n",
    "  # Get list of unique words in corpus\n",
    "  voc = vocabulary(corpus)\n",
    "  # Initialization\n",
    "  inv_doc_freq = {}\n",
    "  for word in voc:\n",
    "    inv_doc_freq[word] = 0\n",
    "  # Number of apparition of word\n",
    "  for word in voc:\n",
    "    for document in corpus:\n",
    "      doc_tokens = get_tokens(document)\n",
    "      if word in doc_tokens:\n",
    "        inv_doc_freq[word] += 1\n",
    "  #print(inv_doc_freq)\n",
    "  #print(\"\\n----------------------\\n\")\n",
    "  # IDF\n",
    "  inv_doc_freq = {k: math.log(len(corpus) / inv_doc_freq[k]) for k in inv_doc_freq.keys()}\n",
    "  # Return\n",
    "  return inv_doc_freq\n",
    "\n",
    "idf(corpus)"
   ]
  },
  {
   "cell_type": "code",
   "execution_count": 15,
   "metadata": {
    "id": "bfgMl15xwOeP"
   },
   "outputs": [
    {
     "data": {
      "text/plain": [
       "{'human': 0.10729586082894002,\n",
       " 'caused': 0.21459172165788004,\n",
       " 'climate': 0.06108604879161034,\n",
       " 'change': 0.06108604879161034,\n",
       " 'has': 0.10729586082894002,\n",
       " 'land': 0.10729586082894002,\n",
       " 'ice': 0.10729586082894002,\n",
       " 'to': 0.21459172165788004,\n",
       " 'melt': 0.10729586082894002,\n",
       " 'and': 0.10729586082894002,\n",
       " 'ocean': 0.10729586082894002,\n",
       " 'water': 0.10729586082894002,\n",
       " 'expand': 0.10729586082894002}"
      ]
     },
     "execution_count": 15,
     "metadata": {},
     "output_type": "execute_result"
    }
   ],
   "source": [
    "# TF-IDF\n",
    "def tfidf(document, corpus):\n",
    "  # TF\n",
    "  tf_bag = tf(document)\n",
    "  # IDF\n",
    "  idf_bag = idf(corpus)\n",
    "  # TF*IDF\n",
    "  tfidf_bag = {k: tf_bag[k]*idf_bag[k] for k in tf_bag.keys()}\n",
    "  \n",
    "  return tfidf_bag\n",
    "\n",
    "tfidf(d3, corpus)"
   ]
  },
  {
   "cell_type": "code",
   "execution_count": 16,
   "metadata": {
    "id": "3tIVDQRtxhL0"
   },
   "outputs": [
    {
     "data": {
      "text/html": [
       "<div>\n",
       "<style scoped>\n",
       "    .dataframe tbody tr th:only-of-type {\n",
       "        vertical-align: middle;\n",
       "    }\n",
       "\n",
       "    .dataframe tbody tr th {\n",
       "        vertical-align: top;\n",
       "    }\n",
       "\n",
       "    .dataframe thead th {\n",
       "        text-align: right;\n",
       "    }\n",
       "</style>\n",
       "<table border=\"1\" class=\"dataframe\">\n",
       "  <thead>\n",
       "    <tr style=\"text-align: right;\">\n",
       "      <th></th>\n",
       "      <th>tom</th>\n",
       "      <th>confessed</th>\n",
       "      <th>that</th>\n",
       "      <th>he</th>\n",
       "      <th>had</th>\n",
       "      <th>fallen</th>\n",
       "      <th>in</th>\n",
       "      <th>love</th>\n",
       "      <th>with</th>\n",
       "      <th>me</th>\n",
       "      <th>...</th>\n",
       "      <th>expand</th>\n",
       "      <th>is</th>\n",
       "      <th>not</th>\n",
       "      <th>really</th>\n",
       "      <th>happening</th>\n",
       "      <th>asked</th>\n",
       "      <th>what</th>\n",
       "      <th>wanted</th>\n",
       "      <th>for</th>\n",
       "      <th>christmas</th>\n",
       "    </tr>\n",
       "  </thead>\n",
       "  <tbody>\n",
       "    <tr>\n",
       "      <th>0</th>\n",
       "      <td>0.091629</td>\n",
       "      <td>0.160944</td>\n",
       "      <td>0.160944</td>\n",
       "      <td>0.091629</td>\n",
       "      <td>0.160944</td>\n",
       "      <td>0.160944</td>\n",
       "      <td>0.160944</td>\n",
       "      <td>0.091629</td>\n",
       "      <td>0.091629</td>\n",
       "      <td>0.160944</td>\n",
       "      <td>...</td>\n",
       "      <td>0.000000</td>\n",
       "      <td>0.00000</td>\n",
       "      <td>0.00000</td>\n",
       "      <td>0.00000</td>\n",
       "      <td>0.00000</td>\n",
       "      <td>0.00000</td>\n",
       "      <td>0.00000</td>\n",
       "      <td>0.00000</td>\n",
       "      <td>0.00000</td>\n",
       "      <td>0.00000</td>\n",
       "    </tr>\n",
       "    <tr>\n",
       "      <th>1</th>\n",
       "      <td>0.000000</td>\n",
       "      <td>0.000000</td>\n",
       "      <td>0.000000</td>\n",
       "      <td>0.000000</td>\n",
       "      <td>0.000000</td>\n",
       "      <td>0.000000</td>\n",
       "      <td>0.000000</td>\n",
       "      <td>0.152715</td>\n",
       "      <td>0.152715</td>\n",
       "      <td>0.000000</td>\n",
       "      <td>...</td>\n",
       "      <td>0.000000</td>\n",
       "      <td>0.00000</td>\n",
       "      <td>0.00000</td>\n",
       "      <td>0.00000</td>\n",
       "      <td>0.00000</td>\n",
       "      <td>0.00000</td>\n",
       "      <td>0.00000</td>\n",
       "      <td>0.00000</td>\n",
       "      <td>0.00000</td>\n",
       "      <td>0.00000</td>\n",
       "    </tr>\n",
       "    <tr>\n",
       "      <th>2</th>\n",
       "      <td>0.000000</td>\n",
       "      <td>0.000000</td>\n",
       "      <td>0.000000</td>\n",
       "      <td>0.000000</td>\n",
       "      <td>0.000000</td>\n",
       "      <td>0.000000</td>\n",
       "      <td>0.000000</td>\n",
       "      <td>0.000000</td>\n",
       "      <td>0.000000</td>\n",
       "      <td>0.000000</td>\n",
       "      <td>...</td>\n",
       "      <td>0.107296</td>\n",
       "      <td>0.00000</td>\n",
       "      <td>0.00000</td>\n",
       "      <td>0.00000</td>\n",
       "      <td>0.00000</td>\n",
       "      <td>0.00000</td>\n",
       "      <td>0.00000</td>\n",
       "      <td>0.00000</td>\n",
       "      <td>0.00000</td>\n",
       "      <td>0.00000</td>\n",
       "    </tr>\n",
       "    <tr>\n",
       "      <th>3</th>\n",
       "      <td>0.000000</td>\n",
       "      <td>0.000000</td>\n",
       "      <td>0.000000</td>\n",
       "      <td>0.000000</td>\n",
       "      <td>0.000000</td>\n",
       "      <td>0.000000</td>\n",
       "      <td>0.000000</td>\n",
       "      <td>0.000000</td>\n",
       "      <td>0.000000</td>\n",
       "      <td>0.000000</td>\n",
       "      <td>...</td>\n",
       "      <td>0.000000</td>\n",
       "      <td>0.26824</td>\n",
       "      <td>0.26824</td>\n",
       "      <td>0.26824</td>\n",
       "      <td>0.26824</td>\n",
       "      <td>0.00000</td>\n",
       "      <td>0.00000</td>\n",
       "      <td>0.00000</td>\n",
       "      <td>0.00000</td>\n",
       "      <td>0.00000</td>\n",
       "    </tr>\n",
       "    <tr>\n",
       "      <th>4</th>\n",
       "      <td>0.114536</td>\n",
       "      <td>0.000000</td>\n",
       "      <td>0.000000</td>\n",
       "      <td>0.114536</td>\n",
       "      <td>0.000000</td>\n",
       "      <td>0.000000</td>\n",
       "      <td>0.000000</td>\n",
       "      <td>0.000000</td>\n",
       "      <td>0.000000</td>\n",
       "      <td>0.000000</td>\n",
       "      <td>...</td>\n",
       "      <td>0.000000</td>\n",
       "      <td>0.00000</td>\n",
       "      <td>0.00000</td>\n",
       "      <td>0.00000</td>\n",
       "      <td>0.00000</td>\n",
       "      <td>0.20118</td>\n",
       "      <td>0.20118</td>\n",
       "      <td>0.20118</td>\n",
       "      <td>0.20118</td>\n",
       "      <td>0.20118</td>\n",
       "    </tr>\n",
       "  </tbody>\n",
       "</table>\n",
       "<p>5 rows × 36 columns</p>\n",
       "</div>"
      ],
      "text/plain": [
       "        tom  confessed      that        he       had    fallen        in  \\\n",
       "0  0.091629   0.160944  0.160944  0.091629  0.160944  0.160944  0.160944   \n",
       "1  0.000000   0.000000  0.000000  0.000000  0.000000  0.000000  0.000000   \n",
       "2  0.000000   0.000000  0.000000  0.000000  0.000000  0.000000  0.000000   \n",
       "3  0.000000   0.000000  0.000000  0.000000  0.000000  0.000000  0.000000   \n",
       "4  0.114536   0.000000  0.000000  0.114536  0.000000  0.000000  0.000000   \n",
       "\n",
       "       love      with        me  ...    expand       is      not   really  \\\n",
       "0  0.091629  0.091629  0.160944  ...  0.000000  0.00000  0.00000  0.00000   \n",
       "1  0.152715  0.152715  0.000000  ...  0.000000  0.00000  0.00000  0.00000   \n",
       "2  0.000000  0.000000  0.000000  ...  0.107296  0.00000  0.00000  0.00000   \n",
       "3  0.000000  0.000000  0.000000  ...  0.000000  0.26824  0.26824  0.26824   \n",
       "4  0.000000  0.000000  0.000000  ...  0.000000  0.00000  0.00000  0.00000   \n",
       "\n",
       "   happening    asked     what   wanted      for  christmas  \n",
       "0    0.00000  0.00000  0.00000  0.00000  0.00000    0.00000  \n",
       "1    0.00000  0.00000  0.00000  0.00000  0.00000    0.00000  \n",
       "2    0.00000  0.00000  0.00000  0.00000  0.00000    0.00000  \n",
       "3    0.26824  0.00000  0.00000  0.00000  0.00000    0.00000  \n",
       "4    0.00000  0.20118  0.20118  0.20118  0.20118    0.20118  \n",
       "\n",
       "[5 rows x 36 columns]"
      ]
     },
     "execution_count": 16,
     "metadata": {},
     "output_type": "execute_result"
    }
   ],
   "source": [
    "# DataFrame\n",
    "bag_of_words_tfidf = []\n",
    "for doc in corpus:\n",
    "  bag = tfidf(doc, corpus)\n",
    "  bag_of_words_tfidf.append(bag)\n",
    "  \n",
    "pd.DataFrame(bag_of_words_tfidf).fillna(0)"
   ]
  },
  {
   "cell_type": "markdown",
   "metadata": {
    "id": "Oj3x4fCLyHcA"
   },
   "source": [
    "Remarks:\n",
    "* This is not perfect (e.g. we could remove stopwords, use n-gramsm lemmas)\n",
    "* We can use [TfidfVectorizer](https://scikit-learn.org/stable/modules/generated/sklearn.feature_extraction.text.TfidfVectorizer.html) from sklearn as shown below."
   ]
  },
  {
   "cell_type": "code",
   "execution_count": 17,
   "metadata": {
    "id": "IZGWejXoyG3r"
   },
   "outputs": [
    {
     "data": {
      "text/html": [
       "<div>\n",
       "<style scoped>\n",
       "    .dataframe tbody tr th:only-of-type {\n",
       "        vertical-align: middle;\n",
       "    }\n",
       "\n",
       "    .dataframe tbody tr th {\n",
       "        vertical-align: top;\n",
       "    }\n",
       "\n",
       "    .dataframe thead th {\n",
       "        text-align: right;\n",
       "    }\n",
       "</style>\n",
       "<table border=\"1\" class=\"dataframe\">\n",
       "  <thead>\n",
       "    <tr style=\"text-align: right;\">\n",
       "      <th></th>\n",
       "      <th>and</th>\n",
       "      <th>around</th>\n",
       "      <th>asked</th>\n",
       "      <th>caused</th>\n",
       "      <th>change</th>\n",
       "      <th>christmas</th>\n",
       "      <th>climate</th>\n",
       "      <th>confessed</th>\n",
       "      <th>expand</th>\n",
       "      <th>fallen</th>\n",
       "      <th>...</th>\n",
       "      <th>ocean</th>\n",
       "      <th>really</th>\n",
       "      <th>that</th>\n",
       "      <th>to</th>\n",
       "      <th>tom</th>\n",
       "      <th>wanted</th>\n",
       "      <th>water</th>\n",
       "      <th>we</th>\n",
       "      <th>what</th>\n",
       "      <th>with</th>\n",
       "    </tr>\n",
       "  </thead>\n",
       "  <tbody>\n",
       "    <tr>\n",
       "      <th>0</th>\n",
       "      <td>0.000000</td>\n",
       "      <td>0.000000</td>\n",
       "      <td>0.000000</td>\n",
       "      <td>0.000000</td>\n",
       "      <td>0.000000</td>\n",
       "      <td>0.000000</td>\n",
       "      <td>0.000000</td>\n",
       "      <td>0.340925</td>\n",
       "      <td>0.000000</td>\n",
       "      <td>0.340925</td>\n",
       "      <td>...</td>\n",
       "      <td>0.000000</td>\n",
       "      <td>0.000000</td>\n",
       "      <td>0.340925</td>\n",
       "      <td>0.000000</td>\n",
       "      <td>0.275056</td>\n",
       "      <td>0.000000</td>\n",
       "      <td>0.000000</td>\n",
       "      <td>0.000000</td>\n",
       "      <td>0.000000</td>\n",
       "      <td>0.275056</td>\n",
       "    </tr>\n",
       "    <tr>\n",
       "      <th>1</th>\n",
       "      <td>0.000000</td>\n",
       "      <td>0.449342</td>\n",
       "      <td>0.000000</td>\n",
       "      <td>0.000000</td>\n",
       "      <td>0.000000</td>\n",
       "      <td>0.000000</td>\n",
       "      <td>0.000000</td>\n",
       "      <td>0.000000</td>\n",
       "      <td>0.000000</td>\n",
       "      <td>0.000000</td>\n",
       "      <td>...</td>\n",
       "      <td>0.000000</td>\n",
       "      <td>0.000000</td>\n",
       "      <td>0.000000</td>\n",
       "      <td>0.000000</td>\n",
       "      <td>0.000000</td>\n",
       "      <td>0.000000</td>\n",
       "      <td>0.000000</td>\n",
       "      <td>0.362526</td>\n",
       "      <td>0.000000</td>\n",
       "      <td>0.362526</td>\n",
       "    </tr>\n",
       "    <tr>\n",
       "      <th>2</th>\n",
       "      <td>0.233751</td>\n",
       "      <td>0.000000</td>\n",
       "      <td>0.000000</td>\n",
       "      <td>0.467501</td>\n",
       "      <td>0.188589</td>\n",
       "      <td>0.000000</td>\n",
       "      <td>0.188589</td>\n",
       "      <td>0.000000</td>\n",
       "      <td>0.233751</td>\n",
       "      <td>0.000000</td>\n",
       "      <td>...</td>\n",
       "      <td>0.233751</td>\n",
       "      <td>0.000000</td>\n",
       "      <td>0.000000</td>\n",
       "      <td>0.467501</td>\n",
       "      <td>0.000000</td>\n",
       "      <td>0.000000</td>\n",
       "      <td>0.233751</td>\n",
       "      <td>0.000000</td>\n",
       "      <td>0.000000</td>\n",
       "      <td>0.000000</td>\n",
       "    </tr>\n",
       "    <tr>\n",
       "      <th>3</th>\n",
       "      <td>0.000000</td>\n",
       "      <td>0.000000</td>\n",
       "      <td>0.000000</td>\n",
       "      <td>0.000000</td>\n",
       "      <td>0.350388</td>\n",
       "      <td>0.000000</td>\n",
       "      <td>0.350388</td>\n",
       "      <td>0.000000</td>\n",
       "      <td>0.000000</td>\n",
       "      <td>0.000000</td>\n",
       "      <td>...</td>\n",
       "      <td>0.000000</td>\n",
       "      <td>0.434297</td>\n",
       "      <td>0.000000</td>\n",
       "      <td>0.000000</td>\n",
       "      <td>0.000000</td>\n",
       "      <td>0.000000</td>\n",
       "      <td>0.000000</td>\n",
       "      <td>0.000000</td>\n",
       "      <td>0.000000</td>\n",
       "      <td>0.000000</td>\n",
       "    </tr>\n",
       "    <tr>\n",
       "      <th>4</th>\n",
       "      <td>0.000000</td>\n",
       "      <td>0.000000</td>\n",
       "      <td>0.379247</td>\n",
       "      <td>0.000000</td>\n",
       "      <td>0.000000</td>\n",
       "      <td>0.379247</td>\n",
       "      <td>0.000000</td>\n",
       "      <td>0.000000</td>\n",
       "      <td>0.000000</td>\n",
       "      <td>0.000000</td>\n",
       "      <td>...</td>\n",
       "      <td>0.000000</td>\n",
       "      <td>0.000000</td>\n",
       "      <td>0.000000</td>\n",
       "      <td>0.000000</td>\n",
       "      <td>0.305974</td>\n",
       "      <td>0.379247</td>\n",
       "      <td>0.000000</td>\n",
       "      <td>0.305974</td>\n",
       "      <td>0.379247</td>\n",
       "      <td>0.000000</td>\n",
       "    </tr>\n",
       "  </tbody>\n",
       "</table>\n",
       "<p>5 rows × 36 columns</p>\n",
       "</div>"
      ],
      "text/plain": [
       "        and    around     asked    caused    change  christmas   climate  \\\n",
       "0  0.000000  0.000000  0.000000  0.000000  0.000000   0.000000  0.000000   \n",
       "1  0.000000  0.449342  0.000000  0.000000  0.000000   0.000000  0.000000   \n",
       "2  0.233751  0.000000  0.000000  0.467501  0.188589   0.000000  0.188589   \n",
       "3  0.000000  0.000000  0.000000  0.000000  0.350388   0.000000  0.350388   \n",
       "4  0.000000  0.000000  0.379247  0.000000  0.000000   0.379247  0.000000   \n",
       "\n",
       "   confessed    expand    fallen  ...     ocean    really      that        to  \\\n",
       "0   0.340925  0.000000  0.340925  ...  0.000000  0.000000  0.340925  0.000000   \n",
       "1   0.000000  0.000000  0.000000  ...  0.000000  0.000000  0.000000  0.000000   \n",
       "2   0.000000  0.233751  0.000000  ...  0.233751  0.000000  0.000000  0.467501   \n",
       "3   0.000000  0.000000  0.000000  ...  0.000000  0.434297  0.000000  0.000000   \n",
       "4   0.000000  0.000000  0.000000  ...  0.000000  0.000000  0.000000  0.000000   \n",
       "\n",
       "        tom    wanted     water        we      what      with  \n",
       "0  0.275056  0.000000  0.000000  0.000000  0.000000  0.275056  \n",
       "1  0.000000  0.000000  0.000000  0.362526  0.000000  0.362526  \n",
       "2  0.000000  0.000000  0.233751  0.000000  0.000000  0.000000  \n",
       "3  0.000000  0.000000  0.000000  0.000000  0.000000  0.000000  \n",
       "4  0.305974  0.379247  0.000000  0.305974  0.379247  0.000000  \n",
       "\n",
       "[5 rows x 36 columns]"
      ]
     },
     "execution_count": 17,
     "metadata": {},
     "output_type": "execute_result"
    }
   ],
   "source": [
    "# Using TfidfVectorizer\n",
    "vectorizer = TfidfVectorizer()\n",
    "bag_of_words = vectorizer.fit_transform(corpus).todense()\n",
    "\n",
    "# DataFrame\n",
    "bag_of_words = pd.DataFrame(bag_of_words, columns=vectorizer.get_feature_names_out())\n",
    "bag_of_words"
   ]
  },
  {
   "cell_type": "markdown",
   "metadata": {
    "id": "YFsl7S2FyxxH"
   },
   "source": [
    "Advantage of TF-IDF:\n",
    "* Smart way of representing documents in corpus. More information is provided.\n",
    "\n",
    "Disadvantages of TF-IDF (same as for BOW):\n",
    "* A lot of zeros (imagine a corpus of 1000 articles) --> consume memory and space\n",
    "* Does not maintain any context information (\"I eat a fish\" vs. \"A fish eats me\")\n",
    "* Half solutions: n-grams, specifiying min_df and max_df (see [documentation](https://scikit-learn.org/stable/modules/generated/sklearn.feature_extraction.text.TfidfVectorizer.html))."
   ]
  },
  {
   "cell_type": "markdown",
   "metadata": {
    "id": "Tkm6F65kUzR_"
   },
   "source": [
    "## 2. Introduction to Gensim and Word Embedding\n",
    "\n",
    "In the following, we illustrate how we can find out the relations between words in a dataset, compute the similarity between them, or use the vector representation of those words as input for other applications such as text classification or clustering.\n",
    "\n",
    "We use Gensim. A complete tutorial can be found [here](https://www.tutorialspoint.com/gensim/gensim_introduction.htm)."
   ]
  },
  {
   "cell_type": "markdown",
   "metadata": {
    "id": "r-lFcpJJPXAq"
   },
   "source": [
    "### 2.1 Word Embedding with Word2Vec\n",
    "\n",
    "Word embediing approaches use deep learning and neural network-based techniques to convert words into corresponding vectors so that semantically similar vectors are close to each other in an N-dimensional space, where N refers to the dimensions of the vectors. The underlying assumption is that two words sharing similar contexts also share a similar meaning and consequently a similar vector representation from the model.\n",
    "\n",
    "Two word embedding methods:\n",
    "* Word2Vec by Google\n",
    "* GloVe (Global vectors for Word Representation) by Stanford\n",
    "\n",
    "Word2Vec gives astonishing results. Its ability to maintain a semantic relationship is reflected in a classic example where if you have a vector for the word \"King\" and you remove the vector represented by the word \"Man\" from the \"King\" and add \"Woman\", you get a vector that is close to the vector \"Queen\". \n",
    "\n",
    "* King - Man + Woman = Queen\n",
    "\n",
    "Second example: \"dog\", \"puppy\" and \"pup\" are often used in similar situations, with similar surrounding words like \"good\", \"fluffy\" or \"cute\", and according to Word2Vec they will therefore share a similar vector representation.\n",
    "\n",
    "In real applications, Word2Vec models are created from billions of documents. For example, [Google's Word2Vec model](https://code.google.com/archive/p/word2vec/) is formed from 3 million words and phrases.\n",
    "\n",
    "GloVe is an extension of Word2Vec. More information [here](https://nlp.stanford.edu/projects/glove/). \n",
    "\n",
    "More detail on word embedding will be given in the class following this lab session. You can also click [here](https://www.youtube.com/watch?v=yFFp9RYpOb0) to watch a video on Word2Vec."
   ]
  },
  {
   "cell_type": "code",
   "execution_count": 18,
   "metadata": {
    "id": "4ONCENA5RHYX"
   },
   "outputs": [],
   "source": [
    "# Get texts from Wikipedia\n",
    "def get_text(url):\n",
    "  scrapped_data = urllib.request.urlopen(url)\n",
    "  article = scrapped_data.read()\n",
    "  parsed_article = bs.BeautifulSoup(article,'lxml')\n",
    "  paragraphs = parsed_article.find_all('p')\n",
    "  article_text = \"\"\n",
    "  for p in paragraphs:\n",
    "    article_text += p.text\n",
    "  return article_text\n",
    "\n",
    "machine_learning = get_text(\"https://en.wikipedia.org/wiki/Machine_learning\")\n",
    "ai = get_text(\"https://en.wikipedia.org/wiki/Artificial_intelligence\")\n",
    "\n",
    "#machine_learning"
   ]
  },
  {
   "cell_type": "code",
   "execution_count": 19,
   "metadata": {
    "id": "mrTQGSZWZlBx"
   },
   "outputs": [],
   "source": [
    "#ai"
   ]
  },
  {
   "cell_type": "code",
   "execution_count": 20,
   "metadata": {
    "id": "VfGGJFCLaF_F"
   },
   "outputs": [],
   "source": [
    "# Group texts in list\n",
    "texts = [machine_learning, ai]"
   ]
  },
  {
   "cell_type": "code",
   "execution_count": 21,
   "metadata": {
    "id": "56Z0fduhRMb5"
   },
   "outputs": [],
   "source": [
    "# Create tokenizer function for preprocessing\n",
    "def spacy_tokenizer(text):\n",
    "\n",
    "    # Define stopwords, punctuation, and numbers\n",
    "    stop_words = spacy.lang.en.stop_words.STOP_WORDS\n",
    "    punctuations = string.punctuation\n",
    "    numbers = \"0123456789\"\n",
    "\n",
    "    # Create spacy object\n",
    "    mytokens = sp(text)\n",
    "\n",
    "    # Lemmatize each token and convert each token into lowercase\n",
    "    mytokens = [ word.lemma_.lower().strip() if word.lemma_ != \"-PRON-\" else word.lower_ for word in mytokens ]\n",
    "\n",
    "    # Remove stop words and punctuation\n",
    "    mytokens = [ word for word in mytokens if word not in stop_words and word not in punctuations ]\n",
    "\n",
    "    # Remove sufix like \".[1\" in \"experience.[1\"\n",
    "    mytokens_2 = []\n",
    "    for word in mytokens:\n",
    "      for char in word:\n",
    "        if (char in punctuations) or (char in numbers):\n",
    "          word = word.replace(char, \"\")\n",
    "      if word != \"\":\n",
    "        mytokens_2.append(word)\n",
    "\n",
    "    # Return preprocessed list of tokens\n",
    "    return mytokens_2\n",
    "\n",
    "# Tokenize texts\n",
    "processed_texts = []\n",
    "for text in texts:\n",
    "  processed_text = spacy_tokenizer(text)\n",
    "  processed_texts.append(processed_text)"
   ]
  },
  {
   "cell_type": "code",
   "execution_count": 22,
   "metadata": {
    "id": "7uJoiMgsabwj"
   },
   "outputs": [
    {
     "name": "stdout",
     "output_type": "stream",
     "text": [
      "['machine', 'learning', 'ml', 'field', 'study', 'artificial', 'intelligence', 'concern', 'development', 'study', 'statistical', 'algorithm', 'learn', 'datum', 'generalize', 'unseen', 'datum', 'perform', 'task', 'explicit']\n",
      "['artificial', 'intelligence', 'ai', 'refer', 'capability', 'computational', 'system', 'perform', 'task', 'typically', 'associate', 'human', 'intelligence', 'learning', 'reasoning', 'problem', 'solve', 'perception', 'decision', 'making']\n"
     ]
    }
   ],
   "source": [
    "for processed_text in processed_texts:\n",
    "  print(processed_text[:20])"
   ]
  },
  {
   "cell_type": "code",
   "execution_count": 23,
   "metadata": {
    "id": "MYbGv4LbRRlZ"
   },
   "outputs": [
    {
     "name": "stdout",
     "output_type": "stream",
     "text": [
      "{'ai': 0, 'learning': 1, 'use': 2, 'machine': 3, 'datum': 4, 'model': 5, 'learn': 6, 'algorithm': 7, 'intelligence': 8, 'artificial': 9, 'problem': 10, 'system': 11, 'human': 12, 'include': 13, 'network': 14, 'decision': 15, 'example': 16, 'training': 17, 'research': 18, 'field': 19, 'set': 20, 'neural': 21, 'method': 22, 'program': 23, 'train': 24, 'input': 25, 'base': 26, 'knowledge': 27, 'power': 28, 'application': 29, 'feature': 30, 'computer': 31, 'agent': 32, 'search': 33, 'output': 34, 'find': 35, 'theory': 36, 'task': 37, 'develop': 38, 'large': 39, 'process': 40, 'language': 41, 'approach': 42, 'deep': 43, 'solve': 44, 'goal': 45, 'image': 46, 'technique': 47, 'know': 48, 'researcher': 49, 'represent': 50, 'logic': 51, 'new': 52, 'classification': 53, 'risk': 54, 'rule': 55, 'bias': 56, 'data': 57, 'high': 58, 'time': 59, 'people': 60, 'term': 61, 'function': 62, 'tool': 63, 'label': 64, 'reasoning': 65, 'action': 66, 'like': 67, 'specific': 68, 'increase': 69, 'tree': 70, 'analysis': 71, 's': 72, 'perform': 73, 'information': 74, 'world': 75, 'predict': 76, 'general': 77, 'neuron': 78, 'technology': 79, 'require': 80, 'space': 81, 'pattern': 82, 'prediction': 83, 'mathematical': 84, 'study': 85, 'define': 86, 'test': 87, 'identify': 88, 'eg': 89, 'improve': 90, 'consider': 91, 'google': 92, 'company': 93, 'state': 94, 'nuclear': 95, 'lead': 96, 'signal': 97, 'generative': 98, 'performance': 99, 'early': 100, 'processing': 101, 'result': 102, 'work': 103, 'representation': 104, 'layer': 105, 'real': 106, 'user': 107, 'argue': 108, 'possible': 109, 'different': 110, 'solution': 111, 'software': 112, 'typically': 113, 'form': 114, 'generate': 115, 'future': 116, 'regression': 117, 'class': 118, 'way': 119, 'computing': 120, 'produce': 121, 'allow': 122, 'supervised': 123, 'us': 124, 'begin': 125, 'symbolic': 126, 'number': 127, 'type': 128, 'reinforcement': 129, 'provide': 130, 'text': 131, 'game': 132, 'right': 133, 'create': 134, 'situation': 135, 'build': 136, '–': 137, 'ability': 138, 'statistical': 139, 'need': 140, 'medical': 141, 'recognition': 142, 'mean': 143, 'question': 144, 'object': 145, 'fairness': 146, 'environment': 147, 'variable': 148, 'center': 149, 'level': 150, 'optimization': 151, 'programming': 152, 'autonomous': 153, 'issue': 154, 'scale': 155, 'behavior': 156, 'area': 157, 'describe': 158, 'target': 159, 'linear': 160, 'design': 161, 'order': 162, 'classify': 163, 'value': 164, 'compression': 165, 'reduce': 166, 'mind': 167, 'intelligent': 168, 'report': 169, 'unsupervised': 170, 'measure': 171, 'cluster': 172, 'job': 173, 'accord': 174, 'non': 175, '—': 176, 'potential': 177, 'attempt': 178, 'multiple': 179, 'good': 180, 'enable': 181, 'low': 182, 'choose': 183, 'discovery': 184, 'step': 185, 'apply': 186, 'expert': 187, 'computational': 188, 'microsoft': 189, 'black': 190, 'point': 191, 'k': 192, 'long': 193, 'certain': 194, 'focus': 195, 'mining': 196, 'experience': 197, 'self': 198, 'relate': 199, 'concern': 200, 'speech': 201, 'ethical': 202, 'dictionary': 203, 'relationship': 204, 'probability': 205, 'robot': 206, 'vector': 207, 'particular': 208, 'privacy': 209, 'introduce': 210, 'far': 211, 'bayesian': 212, 'come': 213, 'fact': 214, 'detection': 215, 'recommendation': 216, 'video': 217, 'difficult': 218, 'energy': 219, 'exist': 220, 'hardware': 221, 'able': 222, 'government': 223, 'definition': 224, 'weight': 225, 'widely': 226, 'especially': 227, 'common': 228, 'play': 229, 'important': 230, 'law': 231, 'development': 232, 'accuracy': 233, 'probabilistic': 234, 'help': 235, 'structure': 236, 'useful': 237, 'strategy': 238, 'white': 239, 'dimensional': 240, 'available': 241, 'classifier': 242, 'node': 243, 'pre': 244, 'true': 245, 'formal': 246, 'small': 247, 'think': 248, 'bad': 249, 'explain': 250, 'operate': 251, 'outcome': 252, 'observation': 253, 'contain': 254, 'inspire': 255, 'natural': 256, 'dataset': 257, 'policy': 258, 'achieve': 259, 'theoretical': 260, 'similar': 261, 'fit': 262, 'associate': 263, 'science': 264, 'misinformation': 265, 'previous': 266, 'capable': 267, 'expect': 268, 'statement': 269, 'perception': 270, 'lack': 271, 'refer': 272, 'generation': 273, 'complexity': 274, 'gpt': 275, 'learner': 276, 'safety': 277, 'particularly': 278, 'amazon': 279, 'instance': 280, 'propose': 281, 'recognize': 282, 'vision': 283, 'project': 284, 'domain': 285, 'category': 286, 'change': 287, 'physical': 288, 'effect': 289, 'history': 290, 'content': 291, 'connection': 292, 'open': 293, 'kind': 294, 'framework': 295, 'genetic': 296, 'easy': 297, 'success': 298, 'plant': 299, 'algorithmic': 300, 'emotion': 301, 'involve': 302, 'agree': 303, 'simulate': 304, 'rate': 305, 'networks': 306, 'statistic': 307, 'united': 308, 'compute': 309, 'range': 310, 'funding': 311, 'discover': 312, 'billion': 313, 'inference': 314, 'engineering': 315, 'integrate': 316, 'care': 317, 'property': 318, 'operation': 319, 'simple': 320, 'random': 321, 'local': 322, 'service': 323, 'benefit': 324, 'society': 325, 'sample': 326, 'current': 327, 'modern': 328, 'negative': 329, 'suggest': 330, 'ethic': 331, 'predictive': 332, 'sparse': 333, 'write': 334, 'problems': 335, 'addition': 336, 'analyze': 337, 'evaluate': 338, 'complex': 339, 'supervise': 340, 'computation': 341, 'person': 342, 'interest': 343, 'directly': 344, 'word': 345, 'group': 346, 'electric': 347, 'case': 348, 'symbol': 349, 'product': 350, 'sub': 351, 'handle': 352, 'estimate': 353, 'successful': 354, 'anomaly': 355, 'likely': 356, 'association': 357, 'race': 358, 'popular': 359, 'similarity': 360, 'hypothesis': 361, 'aim': 362, 'feel': 363, 'automate': 364, 'brain': 365, 'reason': 366, 'understand': 367, 'employ': 368, 'reduction': 369, 'variety': 370, 'relevant': 371, 'control': 372, 'significant': 373, 'deepmind': 374, 'distribution': 375, 'making': 376, 'benchmark': 377, 'rfr': 378, 'chance': 379, 'biological': 380, 'growth': 381, 'source': 382, 'response': 383, 'reach': 384, 'unit': 385, 'philosophy': 386, 'logical': 387, 'assume': 388, 'additional': 389, 'adopt': 390, 'transformer': 391, 'edge': 392, 'try': 393, 'inductive': 394, 'receive': 395, 'country': 396, 'concept': 397, 'obtain': 398, 'social': 399, 'look': 400, 'regulatory': 401, 'uncertain': 402, 'view': 403, 'collection': 404, 'support': 405, 'error': 406, 'component': 407, 'reward': 408, 'planning': 409, 'dynamic': 410, 'context': 411, 'academic': 412, 'observe': 413, 'combine': 414, 'grow': 415, 'difficulty': 416, 'robotic': 417, 'firm': 418, 'previously': 419, 'commission': 420, 'release': 421, 'cause': 422, 'actor': 423, 'advanced': 424, 'fold': 425, 'disease': 426, 'book': 427, 'assistant': 428, 'body': 429, 'internal': 430, 'fail': 431, 'challenge': 432, 'plan': 433, 'generalization': 434, 'year': 435, 'maximize': 436, 'exactly': 437, 'express': 438, 'belief': 439, 'single': 440, 'cost': 441, 'raise': 442, 'match': 443, 'forecast': 444, 'commercial': 445, 'idea': 446, 'patient': 447, 'philosopher': 448, 'face': 449, 'weapon': 450, 'dimensionality': 451, 'consciousness': 452, 'subset': 453, 'chatbot': 454, 'fall': 455, 'existential': 456, 'vehicle': 457, 'necessary': 458, 'global': 459, 'demonstrate': 460, 'russell': 461, 'notion': 462, 'superintelligence': 463, 'manifold': 464, 'public': 465, 'depend': 466, 'professional': 467, 'evacuation': 468, 'gorilla': 469, 'win': 470, 'positive': 471, 'broad': 472, 'meta': 473, 'humanity': 474, 'access': 475, 'matrix': 476, 'racist': 477, 'european': 478, 'determine': 479, 'correct': 480, 'cloud': 481, 'past': 482, 'key': 483, 'utility': 484, 'main': 485, 'hope': 486, 'basis': 487, 'position': 488, 'eventually': 489, 'memory': 490, 'tend': 491, 'unknown': 492, 'database': 493, 'factor': 494, 'collect': 495, 'industry': 496, 'sensor': 497, 'assumption': 498, 'usually': 499, 'biased': 500, 'loss': 501, 'ture': 502, 'representative': 503, 'machines': 504, 'overfitte': 505, 'x': 506, 'online': 507, 'kernel': 508, 'e': 509, 'map': 510, 'file': 511, 'scenario': 512, 'item': 513, 'turing': 514, 'optimal': 515, 'efficient': 516, 'offer': 517, 'pass': 518, 'math': 519, 'nature': 520, 'clustering': 521, 'correctly': 522, 'normal': 523, 'topic': 524, 'interaction': 525, 'device': 526, 'netflix': 527, 'architecture': 528, 'notably': 529, 'harm': 530, 'market': 531, 'boom': 532, 'parameter': 533, 'perceive': 534, 'joint': 535, 'big': 536, 'million': 537, 'seek': 538, 'capability': 539, 'chess': 540, 'chatgpt': 541, 'detect': 542, 'actually': 543, 'electricity': 544, 'answer': 545, 'thing': 546, 'principle': 547, 'surveillance': 548, 'implementation': 549, 'fine': 550, 'contrast': 551, 'prove': 552, 'fast': 553, 'founder': 554, 'late': 555, 'activity': 556, 'developer': 557, 'publish': 558, 'virtual': 559, 'markov': 560, 'dependent': 561, 'strong': 562, 'unseen': 563, 'cross': 564, 'ml': 565, 'o': 566, 'xai': 567, 'ann': 568, 'pick': 569, 'dollar': 570, 'explainable': 571, 'wide': 572, 'rely': 573, 'soft': 574, 'email': 575, 'consequence': 576, 'drive': 577, 'art': 578, 'co': 579, 'preference': 580, 'hold': 581, 'caa': 582, 'constraint': 583, 'business': 584, 'deliver': 585, 'impact': 586, 'watch': 587, 'individual': 588, 'resource': 589, 'svm': 590, 'box': 591, 'evaluation': 592, 'select': 593, 'hard': 594, 'conscious': 595, 'life': 596, 'identification': 597, 'explanation': 598, 'uncertainty': 599, 'rare': 600, 'kill': 601, 'explicit': 602, 'textbook': 603, 'discuss': 604, 'states': 605, 'community': 606, 'authoritarian': 607, 'separate': 608, 'sense': 609, 'believe': 610, 'hand': 611, 'compas': 612, 'prevent': 613, 'proof': 614, 'union': 615, 'premise': 616, 'widespread': 617, 'near': 618, 'november': 619, 'continue': 620, 'japan': 621, 'conference': 622, 'major': 623, 'impossible': 624, 'supply': 625, 'active': 626, 'principal': 627, 'draw': 628, 'conventional': 629, 'selection': 630, 'incomplete': 631, 'ensure': 632, 'discussion': 633, 'accurate': 634, 'paradigm': 635, 'invest': 636, 'asthma': 637, 'found': 638, 'nvidia': 639, 'vast': 640, 'internet': 641, 'geoffrey': 642, 'tech': 643, 'objective': 644, 'discipline': 645, 'copyright': 646, 'day': 647, 'demand': 648, 'diagnosis': 649, 'survey': 650, 'replace': 651, 'gender': 652, 'machinery': 653, 'electrical': 654, 'grid': 655, 'john': 656, 'hinton': 657, 'prize': 658, 'backpropagation': 659, 'alan': 660, 'close': 661, 'follow': 662, 'sequence': 663, 'player': 664, 'champion': 665, 'thousand': 666, 't': 667, 'apple': 668, 'facebook': 669, 'ceo': 670, 'instead': 671, 'llama': 672, 'extend': 673, 'philosophical': 674, 'st': 675, 'transparency': 676, 'consist': 677, 'responsible': 678, 'openai': 679, 'suffer': 680, 'economist': 681, 'gpu': 682, 'narrow': 683, 'moral': 684, 'root': 685, 'increasingly': 686, 'unemployment': 687, 'similarly': 688, 'polynomial': 689, 'central': 690, 'member': 691, 'powerful': 692, 'regulation': 693, 'specialized': 694, 'improvement': 695, 'party': 696, 'adversarial': 697, 'goals': 698, 'generally': 699, 'processes': 700, 'swarm': 701, 'china': 702, 'systems': 703, 'cognitive': 704, 'present': 705, 'emerge': 706, 'pioneer': 707, 'argument': 708, 'embed': 709, 'sufficiently': 710, 'compress': 711, 'inherently': 712, 'underlie': 713, 'fuzzy': 714, 'away': 715, 'p': 716, 'respond': 717, 'period': 718, 'filter': 719, 'implicitly': 720, 'd': 721, 'respect': 722, 'c': 723, 'initial': 724, 'start': 725, 'n': 726, 'purpose': 727, 'simulation': 728, 'production': 729, 'predictions': 730, 'ibm': 731, 'techniques': 732, 'do': 733, 'effective': 734, 'customer': 735, 'practical': 736, 'acquisition': 737, 'density': 738, 'record': 739, 'unlabeled': 740, 'dominate': 741, 'transaction': 742, 'aggregate': 743, 'line': 744, 'retrieval': 745, 'paper': 746, 'characteristic': 747, 'store': 748, 'difference': 749, 'majority': 750, 'limited': 751, 'finite': 752, 'decrease': 753, 'subject': 754, 'experimental': 755, 'arthur': 756, 'filtering': 757, 'desire': 758, 'medicine': 759, 'journal': 760, 'yield': 761, 'related': 762, 'assign': 763, 'branch': 764, 'original': 765, 'overall': 766, 'foundation': 767, 'comprise': 768, 'interact': 769, 'underlying': 770, 'advice': 771, 'unsupervise': 772, 'statistics': 773, 'necessarily': 774, 'modeling': 775, 'organization': 776, 'significantly': 777, 'core': 778, 'approximately': 779, 'divide': 780, 'deviation': 781, 'restrict': 782, 'size': 783, 'examples': 784, 'advance': 785, 'digit': 786, 'derive': 787, 'audio': 788, 'event': 789, 'feedback': 790, 'calculate': 791, 'outlier': 792, 'preserve': 793, 'deal': 794, 'extensive': 795, 'storage': 796, 'belong': 797, 'surpass': 798, 'heuristic': 799, 'efficiency': 800, 'speed': 801, 'exploratory': 802, 'external': 803, 'aid': 804, 'samuel': 805, 'logistic': 806, 'prolog': 807, 'international': 808, 'approval': 809, 'cover': 810, 'opening': 811, 'reopen': 812, 'welfare': 813, 'risks': 814, 'constellation': 815, 'uk': 816, 'matter': 817, 'consumption': 818, 'biases': 819, 'assess': 820, 'protection': 821, 'defendant': 822, 'photos': 823, 'scientist': 824, 'health': 825, 'owner': 826, 'hide': 827, 'graphic': 828, 'double': 829, 'potentially': 830, 'false': 831, 'ban': 832, 'highlight': 833, 'wrong': 834, 'competition': 835, 'fiction': 836, 'engine': 837, 'chinese': 838, 'financial': 839, 'employment': 840, 'convention': 841, 'recently': 842, 'note': 843, 'die': 844, 'pose': 845, 'recommend': 846, 'mistake': 847, 'claim': 848, 'burden': 849, 'criticism': 850, 'designer': 851, 'mental': 852, 'accordance': 853, 'picture': 854, 'leader': 855, 'convince': 856, 'material': 857, 'oppose': 858, 'medium': 859, 'sensitive': 860, 'beat': 861, 'gain': 862, 'drug': 863, 'understanding': 864, 'guide': 865, 'others': 866, 'facial': 867, 'automation': 868, 'speak': 869, 'appear': 870, 'choice': 871, 'agents': 872, 'huang': 873, 'gemini': 874, 'quality': 875, 'horn': 876, 'clause': 877, 'free': 878, 'token': 879, 'testing': 880, 'version': 881, 'short': 882, 'deduce': 883, 'guess': 884, 'deploy': 885, 'sexual': 886, 'eliminate': 887, 'personal': 888, 'approximate': 889, 'youtube': 890, 'subfield': 891, 'complete': 892, 'equal': 893, 'institution': 894, 'legal': 895, 'deepfake': 896, 'stable': 897, 'happen': 898, 'military': 899, 'wave': 900, 'imitate': 901, 'slow': 902, 'rarely': 903, 'relation': 904, 'mathematics': 905, 'commonsense': 906, 'enormous': 907, 'occur': 908, 'sentience': 909, 'tune': 910, 'americans': 911, 'implement': 912, 'regulate': 913, 'minsky': 914, 'engineer': 915, 'fund': 916, 'hidden': 917, 'freely': 918, 'direct': 919, 'threshold': 920, 'minimize': 921, 'translation': 922, 'launch': 923, 'fully': 924, 'incorporate': 925, 'attention': 926, 'connect': 927, 'critic': 928, 'protein': 929, 'influence': 930, 'possibility': 931, 'evidence': 932, 'adjust': 933, 'send': 934, 'mitigate': 935, 'team': 936, 'stuart': 937, 'british': 938, 'avoid': 939, 'mark': 940, 'distribute': 941, 'summit': 942, 'ensemble': 943, 'asimov': 944, 'investment': 945, 'versatile': 946, 'qwen': 947, 'highly': 948, 'david': 949, 'antiquity': 950, 'years': 951, 'focusse': 952, 'pursue': 953, 'century': 954, 'banking': 955, 'january': 956, 'sector': 957, 'mid': 958, 'finance': 959, 'verifiable': 960, 'topological': 961, 'eleutherai': 962, 'theorem': 963, 'dedicated': 964, 'relatively': 965, 'connectionism': 966, 'simon': 967, 'destroy': 968, 'enemy': 969, 'conduct': 970, 'management': 971, 'marvin': 972, 'monitor': 973, 'behaviour': 974, 'industrial': 975, 'anthropic': 976, 'astronomy': 977, 'diffusion': 978, 'winter': 979, 'mainly': 980, 'restore': 981, 'coordination': 982, 'algebra': 983, 'election': 984, 'engage': 985, 'outside': 986, 'demis': 987, 'innovation': 988, 'electronic': 989, 'reinvention': 990, 'pension': 991, 'threat': 992, 'factory': 993, 'mathematic': 994, 'hallucination': 995, 'irrelevant': 996, 'examination': 997, 'essential': 998, 'blind': 999, 'moore': 1000, 'trend': 1001, 'month': 1002, 'copilot': 1003, 'claude': 1004, 'red': 1005, 'request': 1006, 'computationalism': 1007, 'searle': 1008, 'sentient': 1009, 'rlhf': 1010, 'correspond': 1011, 'zip': 1012, 'phase': 1013, 'grant': 1014, 'combined': 1015, 'pretraining': 1016, 'llms': 1017, 'evolution': 1018, 'curate': 1019, 'darwin': 1020, 'convolutional': 1021, 'perceptrons': 1022, 'tensorflow': 1023, 'culture': 1024, 'recurrent': 1025, 'exhaustive': 1026, 'translate': 1027, 'mistral': 1028, 'norvig': 1029, 'autonomously': 1030, 'agi': 1031, 'turismo': 1032, 'gran': 1033, 'poll': 1034, 'publication': 1035, 'bring': 1036, 'alphago': 1037, 'march': 1038, 'conversely': 1039, 'thinking': 1040, 'compressor': 1041, 'defeat': 1042, 'jeopardy': 1043, 'instructions': 1044, 'labeling': 1045, 'pigeon': 1046, 'alternative': 1047, 'blue': 1048, 'aggregation': 1049, 'treatment': 1050, 'string': 1051, 'parkinson': 1052, 'mccarthy': 1053, 'moravec': 1054, 'allocate': 1055, 'generalize': 1056, 'neat': 1057, 'scruffie': 1058, 'deployment': 1059, 'compete': 1060, 'opinion': 1061, 'later': 1062, 'probably': 1063, 'compensate': 1064, 'conflict': 1065, 'priority': 1066, 'contribute': 1067, 'address': 1068, 'pitts': 1069, 'mention': 1070, 'underestimate': 1071, 'thought': 1072, 'yann': 1073, 'offend': 1074, 'lecun': 1075, 'disparity': 1076, 'june': 1077, 'discrimination': 1078, 'perceptron': 1079, 'analyse': 1080, 'sonar': 1081, 'seriously': 1082, 'propaganda': 1083, 'writing': 1084, 'film': 1085, 'equip': 1086, 'harmful': 1087, 'decisions': 1088, 'trust': 1089, 'friendly': 1090, 'extreme': 1091, 'household': 1092, 'reject': 1093, 'subjectivity': 1094, 'communicate': 1095, 'anti': 1096, 'laws': 1097, 'teach': 1098, 'awareness': 1099, 'gaming': 1100, 'hawking': 1101, 'stephen': 1102, 'collar': 1103, 'morality': 1104, 'second': 1105, 'total': 1106, 'checker': 1107, 'story': 1108, 'speculate': 1109, 'decade': 1110, 'citizen': 1111, 'nations': 1112, 'reliably': 1113, 'hebb': 1114, 'warfare': 1115, 'mass': 1116, 'establish': 1117, 'regulator': 1118, 'concerned': 1119, 'pneumonia': 1120, 'coin': 1121, 'ruler': 1122, 'tendency': 1123, 'superintelligent': 1124, 'extinction': 1125, 'seoul': 1126, 'federal': 1127, 'ubitus': 1128, 'resolve': 1129, 'entity': 1130, 'frameworks': 1131, 'iea': 1132, 'affect': 1133, 'inc': 1134, 'stage': 1135, 'creation': 1136, 'author': 1137, 'court': 1138, 'hypothetical': 1139, 'disagree': 1140, 'mole': 1141, 'couple': 1142, 'fair': 1143, 'rationale': 1144, 'analytic': 1145, 'cancerous': 1146, 'stock': 1147, 'governance': 1148, 'inform': 1149, 'valuable': 1150, 'clearly': 1151, 'rights': 1152, 'ipsos': 1153, 'scientific': 1154, 'manager': 1155, 'conversation': 1156, 'agriculture': 1157, 'adequate': 1158, 'hassabis': 1159, 'japanese': 1160, 'nation': 1161, 'j': 1162, 'carbon': 1163, 'capacity': 1164, 'character': 1165, 'letter': 1166, 'provably': 1167, 'taiwan': 1168, 'special': 1169, 'specialize': 1170, 'exelon': 1171, 'proponent': 1172, 'misuse': 1173, 'crane': 1174, 'recognise': 1175, 'michigan': 1176, 'act': 1177, 'warn': 1178, 'reactor': 1179, 'partial': 1180, 'institute': 1181, 'island': 1182, 'fundamentally': 1183, 'mile': 1184, 'declaration': 1185, 'ethics': 1186, 'regard': 1187, 'announce': 1188, 'september': 1189, 'centers': 1190, 'consumer': 1191, 'facility': 1192, 'october': 1193, 'applications': 1194, 'neighbor': 1195, 'optimize': 1196, 'mla': 1197, 'advancement': 1198, 'novel': 1199, 'investigate': 1200, 'disaster': 1201, 'decide': 1202, 'crossbar': 1203, 'evacuate': 1204, 'numerous': 1205, 'regularization': 1206, 'extract': 1207, 'substantial': 1208, 'pca': 1209, 'car': 1210, 'healthcare': 1211, 'feeling': 1212, 'reveal': 1213, 'watson': 1214, 'cognition': 1215, 'independent': 1216, 'server': 1217, 'phone': 1218, 'provider': 1219, 'transform': 1220, 'collaboration': 1221, 'wall': 1222, 'street': 1223, 'behave': 1224, 'behavioral': 1225, 'doctor': 1226, 'execute': 1227, 'iteration': 1228, 'lose': 1229, 'update': 1230, 'extraction': 1231, 'consideration': 1232, 'utilize': 1233, 'place': 1234, 'holdout': 1235, 'cheap': 1236, 'imprecise': 1237, 'validation': 1238, 'conjunction': 1239, 'experiment': 1240, 'completely': 1241, 'respectively': 1242, 'semi': 1243, 'remain': 1244, 'graph': 1245, 'investigator': 1246, 'frequently': 1247, 'roc': 1248, 'criterion': 1249, 'spam': 1250, 'manipulation': 1251, 'limit': 1252, 'nonlinear': 1253, 'sensitivity': 1254, 'exact': 1255, 'finding': 1256, 'interpretable': 1257, 'mdp': 1258, 'refine': 1259, 'effectively': 1260, 'toy': 1261, 'multi': 1262, 'brown': 1263, 'unlike': 1264, 'pixel': 1265, 'correlate': 1266, 'modify': 1267, 'vulnerability': 1268, 'factorization': 1269, 'centralized': 1270, 'decentralize': 1271, 'r': 1272, 'synapsis': 1273, 'sale': 1274, 'transmit': 1275, 'sum': 1276, 'commonly': 1277, 'collectively': 1278, 'utilization': 1279, 'possibly': 1280, 'manipulate': 1281, 'intend': 1282, 'sound': 1283, 'conclusion': 1284, 'leave': 1285, 'explicitly': 1286, 'likelihood': 1287, 'loosely': 1288, 'mathrm': 1289, 'code': 1290, 'onion': 1291, 'lay': 1292, 'shapiro': 1293, 'gordon': 1294, 'background': 1295, 'ilp': 1296, 'induction': 1297, 'iteratively': 1298, 'continuous': 1299, 'usage': 1300, 'web': 1301, 'specificity': 1302, 'marketing': 1303, 'buy': 1304, 'indicate': 1305, 'potato': 1306, 'average': 1307, 'svms': 1308, 'micro': 1309, 'efficiently': 1310, 'de': 1311, 'sparsely': 1312, 'evolutionary': 1313, 'algorithms': 1314, 'dempster': 1315, 'analogous': 1316, 'compare': 1317, 'combination': 1318, 'leverage': 1319, 'mathematically': 1320, 'fusion': 1321, 'proposition': 1322, 'varied': 1323, 'corpus': 1324, 'multidimensional': 1325, 'clean': 1326, 'patch': 1327, 'noise': 1328, 'multivariate': 1329, 'appropriately': 1330, 'trick': 1331, 'outli': 1332, 'interesting': 1333, 'intrusion': 1334, 'trendline': 1335, 'economic': 1336, 'unobserved': 1337, 'indicator': 1338, 'acyclic': 1339, 'graphical': 1340, 'symptom': 1341, 'gaussian': 1342, 'covariance': 1343, 'curve': 1344, 'auc': 1345, 'estimation': 1346, 'closely': 1347, 'prefer': 1348, 'characterize': 1349, 'maximum': 1350, 'classical': 1351, 'discrepancy': 1352, 'learned': 1353, 'outperform': 1354, 'easily': 1355, 'kdd': 1356, 'known': 1357, 'stream': 1358, 'numeric': 1359, 'basic': 1360, 'nlp': 1361, 'noam': 1362, 'rational': 1363, 'breadth': 1364, 'scope': 1365, 'aspect': 1366, 'economics': 1367, 'explosion': 1368, 'suitable': 1369, 'exponentially': 1370, 'deduction': 1371, 'unsolved': 1372, 'intelligently': 1373, 'scene': 1374, 'areas': 1375, 'i': 1376, 'michael': 1377, 'patterns': 1378, 'default': 1379, 'tell': 1380, 'population': 1381, 'chomsky': 1382, 'grammar': 1383, 'semantic': 1384, 'meaning': 1385, 'partition': 1386, 'enhance': 1387, 'negation': 1388, 'solved': 1389, 'intractable': 1390, 'competitive': 1391, 'predefine': 1392, 'languages': 1393, 'degree': 1394, 'truth': 1395, 'vague': 1396, 'devise': 1397, 'precise': 1398, 'diamond': 1399, 'classifiers': 1400, 'specified': 1401, 'axiom': 1402, 'sentence': 1403, 'end': 1404, 'mechanism': 1405, 'setting': 1406, 'affective': 1407, 'facilitate': 1408, 'sentiment': 1409, 'multimodal': 1410, 'sufficient': 1411, 'centroid': 1412, 'incrementally': 1413, 'gradient': 1414, 'descent': 1415, 'beneficial': 1416, 'ant': 1417, 'predicate': 1418, 'puzzle': 1419, 'display': 1420, 'accountability': 1421, 'score': 1422, 'income': 1423, 'array': 1424, 'supervisory': 1425, 'minority': 1426, 'historical': 1427, 'critical': 1428, 'limitation': 1429, 'advantage': 1430, 'carry': 1431, 'faculty': 1432, 'university': 1433, 'phd': 1434, 'graduate': 1435, 'quickly': 1436, 'propublica': 1437, 'policing': 1438, 'candidate': 1439, 'shape': 1440, 'deny': 1441, 'ethically': 1442, 'presence': 1443, 'commonality': 1444, 'lethal': 1445, 'alignment': 1446, 'verification': 1447, 'treat': 1448, 'tracking': 1449, 'visual': 1450, 'status': 1451, 'unconscious': 1452, 'exhibit': 1453, 'numerical': 1454, 'racial': 1455, 'george': 1456, 'insight': 1457, 'fei': 1458, 'overfitting': 1459, 'stake': 1460, 'adapt': 1461, 'vastly': 1462, 'analytical': 1463, 'accelerate': 1464, 'forest': 1465, 'rapid': 1466, 'ongoing': 1467, 'progress': 1468, 'emergence': 1469, 'unintended': 1470, 'distinguish': 1471, 'be': 1472, 'prompt': 1473, 'break': 1474, 'trait': 1475, 'physics': 1476, 'cut': 1477, 'alexa': 1478, 'bound': 1479, 'diagnose': 1480, 'path': 1481, 'enhancement': 1482, 'displace': 1483, 'dominant': 1484, 'months': 1485, 'neuromorphic': 1486, 'siri': 1487, 'emulate': 1488, 'adjustable': 1489, 'transfer': 1490, 'having': 1491, 'accurately': 1492, 'achieving': 1493, 'dick': 1494}\n"
     ]
    }
   ],
   "source": [
    "# Word embedding \n",
    "### Parameters: \n",
    "#     - min_count: minimum number of occurence of single word in corpus to be taken into account\n",
    "#     - size: dimension of the vectors representing the tokens\n",
    "#     - IMPORTANT: processed_texts must be a list of lists of tokens object!\n",
    "word2vec = Word2Vec(processed_texts, min_count=2, vector_size=100)\n",
    "vocab = word2vec.wv.key_to_index\n",
    "print(vocab)"
   ]
  },
  {
   "cell_type": "code",
   "execution_count": 24,
   "metadata": {
    "id": "ynLxnGryTXKc"
   },
   "outputs": [
    {
     "data": {
      "text/plain": [
       "array([-0.04345902,  0.06330339,  0.01263315,  0.00784585,  0.02607231,\n",
       "       -0.07790423,  0.03212652,  0.1060515 , -0.04398772, -0.01217287,\n",
       "       -0.02631181, -0.0602807 , -0.00012719,  0.02230304,  0.01427038,\n",
       "       -0.03227727,  0.01791517, -0.05574057, -0.01216385, -0.11237962,\n",
       "        0.01540521,  0.03190437,  0.0352481 , -0.01980832, -0.01692476,\n",
       "        0.00433433, -0.05328176, -0.04448415, -0.04708139, -0.00120635,\n",
       "        0.05030176, -0.00523742,  0.02649252, -0.03406338, -0.00899807,\n",
       "        0.07079905, -0.00310693, -0.04576768, -0.01993596, -0.09276051,\n",
       "       -0.01323867, -0.04361514, -0.02762451,  0.01762446,  0.04011427,\n",
       "       -0.03634905, -0.03743771, -0.0045412 ,  0.01797542,  0.04266987,\n",
       "        0.01300333, -0.0298935 , -0.02265617, -0.0125665 , -0.03779178,\n",
       "        0.01881744,  0.02777444, -0.00619712, -0.04167143,  0.00772709,\n",
       "        0.0048024 ,  0.00961288, -0.00902757, -0.01421688, -0.0878461 ,\n",
       "        0.04858023,  0.01916677,  0.04263579, -0.06896128,  0.05536163,\n",
       "       -0.03832344,  0.02864665,  0.0608192 , -0.01418119,  0.03899964,\n",
       "        0.02708224, -0.00843291, -0.01693788, -0.04766799,  0.02162503,\n",
       "       -0.0136607 , -0.01713033, -0.03313789,  0.06283873,  0.01169776,\n",
       "        0.0087064 ,  0.00568128,  0.04268893,  0.05354994,  0.02355043,\n",
       "        0.05614666,  0.03102609,  0.02199655,  0.00444211,  0.09935419,\n",
       "        0.06170215,  0.0498824 , -0.05011714,  0.03707622, -0.02762538],\n",
       "      dtype=float32)"
      ]
     },
     "execution_count": 24,
     "metadata": {},
     "output_type": "execute_result"
    }
   ],
   "source": [
    "# Vector\n",
    "v1 = word2vec.wv['intelligence'] \n",
    "v1"
   ]
  },
  {
   "cell_type": "code",
   "execution_count": 25,
   "metadata": {
    "id": "MCQRhSF5bPFI"
   },
   "outputs": [
    {
     "data": {
      "text/plain": [
       "[('ai', 0.9844624996185303),\n",
       " ('machine', 0.9837609529495239),\n",
       " ('use', 0.9828115105628967),\n",
       " ('learning', 0.9807819128036499),\n",
       " ('system', 0.9796419143676758),\n",
       " ('learn', 0.9788923263549805),\n",
       " ('datum', 0.9784563779830933),\n",
       " ('model', 0.9776272177696228),\n",
       " ('artificial', 0.9768116474151611),\n",
       " ('problem', 0.9740386009216309)]"
      ]
     },
     "execution_count": 25,
     "metadata": {},
     "output_type": "execute_result"
    }
   ],
   "source": [
    "# Similar vectors/words\n",
    "sim_words = word2vec.wv.most_similar('intelligence')\n",
    "sim_words"
   ]
  },
  {
   "cell_type": "code",
   "execution_count": 26,
   "metadata": {
    "id": "bRBwWMjtcrOH"
   },
   "outputs": [
    {
     "data": {
      "text/plain": [
       "0.49819508"
      ]
     },
     "execution_count": 26,
     "metadata": {},
     "output_type": "execute_result"
    }
   ],
   "source": [
    "# Similarity between two words\n",
    "word2vec.wv.similarity('ai', 'apple')"
   ]
  },
  {
   "cell_type": "code",
   "execution_count": 27,
   "metadata": {
    "id": "t2Qsloo6dz3i"
   },
   "outputs": [
    {
     "data": {
      "text/plain": [
       "0.98622537"
      ]
     },
     "execution_count": 27,
     "metadata": {},
     "output_type": "execute_result"
    }
   ],
   "source": [
    "word2vec.wv.similarity('ai', 'machine')"
   ]
  },
  {
   "cell_type": "markdown",
   "metadata": {
    "id": "zwoQg0xEf9kN"
   },
   "source": [
    "Remarks:\n",
    "* Many things can be done with Gensim (e.g. [topic modelling](https://www.machinelearningplus.com/nlp/topic-modeling-gensim-python/))\n",
    "* There exists also `Doc2Vec`, which is used to create a vectorised representation of a group of words (i.e. a document) taken collectively as a single unit (illustrated in the next section)."
   ]
  },
  {
   "cell_type": "markdown",
   "metadata": {
    "id": "z-_83p20NjO-"
   },
   "source": [
    "### 2.2 Exercise\n",
    "Analyze the wikipedia article on [Coronavirus](https://en.wikipedia.org/wiki/Coronavirus) as above. Follow the steps and send your answers and code @Luc Kunz on Slack (direct message) or via Zoom (private). This is a good way to improve your participation grade."
   ]
  },
  {
   "cell_type": "code",
   "execution_count": 28,
   "metadata": {
    "id": "kTiVRKpjcrJT"
   },
   "outputs": [
    {
     "data": {
      "text/plain": [
       "['coronaviruse',\n",
       " 'group',\n",
       " 'related',\n",
       " 'rna',\n",
       " 'virus',\n",
       " 'cause',\n",
       " 'disease',\n",
       " 'mammal',\n",
       " 'bird',\n",
       " 'human']"
      ]
     },
     "execution_count": 28,
     "metadata": {},
     "output_type": "execute_result"
    }
   ],
   "source": [
    "# 1. Get text from URL - use the get_text() function defined above\n",
    "coronavirus = get_text('https://en.wikipedia.org/wiki/Coronavirus')\n",
    "\n",
    "# 2. Processing - tokenization using the spacy_tokenizer() function\n",
    "processed_corona = spacy_tokenizer(coronavirus)\n",
    "processed_corona[:10]"
   ]
  },
  {
   "cell_type": "code",
   "execution_count": 29,
   "metadata": {
    "id": "hz5BBzckeLAe"
   },
   "outputs": [
    {
     "data": {
      "text/plain": [
       "70"
      ]
     },
     "execution_count": 29,
     "metadata": {},
     "output_type": "execute_result"
    }
   ],
   "source": [
    "# 3. What is the number of occurence of the word \"virus\"?\n",
    "count = 0\n",
    "for word in processed_corona:\n",
    "  if word == 'virus':\n",
    "    count += 1\n",
    "count"
   ]
  },
  {
   "cell_type": "code",
   "execution_count": 30,
   "metadata": {
    "id": "3-1RbfX7fpzO"
   },
   "outputs": [
    {
     "data": {
      "text/plain": [
       "[('helical', 0.49124056100845337),\n",
       " ('like', 0.43380114436149597),\n",
       " ('minor', 0.42258220911026),\n",
       " ('intestinal', 0.40370166301727295),\n",
       " ('discovered', 0.4004249572753906),\n",
       " ('chicago', 0.3967163860797882),\n",
       " ('specificity', 0.3863425552845001),\n",
       " ('sample', 0.37277716398239136),\n",
       " ('aforementioned', 0.36697232723236084),\n",
       " ('farming', 0.3630199730396271)]"
      ]
     },
     "execution_count": 30,
     "metadata": {},
     "output_type": "execute_result"
    }
   ],
   "source": [
    "# 4. Create a Word2Vec representation of the article with a min_count of 1 and a vector size of 50\n",
    "word2vec_corona = Word2Vec([processed_corona], min_count=1, vector_size=50)\n",
    "\n",
    "# 5. What is the 10 most similar words of \"virus\"\n",
    "word2vec_corona.wv.most_similar('virus')"
   ]
  },
  {
   "cell_type": "markdown",
   "metadata": {
    "id": "o3he4niYadil"
   },
   "source": [
    "## 3. Complaints Classification: TF-IDF vs. Doc2Vec\n",
    "We classify consumer finance complaints into 12 pre-defined categories using:\n",
    "* TF-IDF and logistic regression\n",
    "* Doc2Vec and logistic regression\n",
    "\n",
    "We use the same tokenizer function, train-test split, classification algorithm, etc. The only difference is the mathematical representation (i.e. the vectorization from the tokens) of the complaints:\n",
    "* TF-IDF: important words (or n-grams) are words (n-grams) that frequently appear in few documents.\n",
    "* Doc2Vec: similar documents must be close to each other in n-dimensional space. Focus on the context of the documents."
   ]
  },
  {
   "cell_type": "markdown",
   "metadata": {
    "id": "nz_p-bl8TFQb"
   },
   "source": [
    "### 3.1 Load and clean data\n",
    "We work with a sample of a large data set from Data.gov that can be found on [here](https://catalog.data.gov/dataset/consumer-complaint-database).\n",
    "\n"
   ]
  },
  {
   "cell_type": "code",
   "execution_count": 31,
   "metadata": {
    "id": "xiRTQshsihUu"
   },
   "outputs": [
    {
     "data": {
      "text/html": [
       "<div>\n",
       "<style scoped>\n",
       "    .dataframe tbody tr th:only-of-type {\n",
       "        vertical-align: middle;\n",
       "    }\n",
       "\n",
       "    .dataframe tbody tr th {\n",
       "        vertical-align: top;\n",
       "    }\n",
       "\n",
       "    .dataframe thead th {\n",
       "        text-align: right;\n",
       "    }\n",
       "</style>\n",
       "<table border=\"1\" class=\"dataframe\">\n",
       "  <thead>\n",
       "    <tr style=\"text-align: right;\">\n",
       "      <th></th>\n",
       "      <th>Date received</th>\n",
       "      <th>Product</th>\n",
       "      <th>Sub-product</th>\n",
       "      <th>Issue</th>\n",
       "      <th>Sub-issue</th>\n",
       "      <th>Consumer complaint narrative</th>\n",
       "      <th>Company public response</th>\n",
       "      <th>Company</th>\n",
       "      <th>State</th>\n",
       "      <th>ZIP code</th>\n",
       "      <th>Tags</th>\n",
       "      <th>Consumer consent provided?</th>\n",
       "      <th>Submitted via</th>\n",
       "      <th>Date sent to company</th>\n",
       "      <th>Company response to consumer</th>\n",
       "      <th>Timely response?</th>\n",
       "      <th>Consumer disputed?</th>\n",
       "      <th>Complaint ID</th>\n",
       "    </tr>\n",
       "  </thead>\n",
       "  <tbody>\n",
       "    <tr>\n",
       "      <th>0</th>\n",
       "      <td>2012-12-24</td>\n",
       "      <td>Credit card</td>\n",
       "      <td>NaN</td>\n",
       "      <td>Rewards</td>\n",
       "      <td>NaN</td>\n",
       "      <td>NaN</td>\n",
       "      <td>NaN</td>\n",
       "      <td>BANK OF AMERICA, NATIONAL ASSOCIATION</td>\n",
       "      <td>IL</td>\n",
       "      <td>60611</td>\n",
       "      <td>NaN</td>\n",
       "      <td>NaN</td>\n",
       "      <td>Web</td>\n",
       "      <td>2012-12-24</td>\n",
       "      <td>Closed with explanation</td>\n",
       "      <td>Yes</td>\n",
       "      <td>No</td>\n",
       "      <td>217083</td>\n",
       "    </tr>\n",
       "    <tr>\n",
       "      <th>1</th>\n",
       "      <td>2013-12-17</td>\n",
       "      <td>Mortgage</td>\n",
       "      <td>Conventional fixed mortgage</td>\n",
       "      <td>Application, originator, mortgage broker</td>\n",
       "      <td>NaN</td>\n",
       "      <td>NaN</td>\n",
       "      <td>NaN</td>\n",
       "      <td>REGIONS FINANCIAL CORPORATION</td>\n",
       "      <td>FL</td>\n",
       "      <td>33415</td>\n",
       "      <td>NaN</td>\n",
       "      <td>NaN</td>\n",
       "      <td>Web</td>\n",
       "      <td>2013-12-17</td>\n",
       "      <td>Closed with explanation</td>\n",
       "      <td>Yes</td>\n",
       "      <td>Yes</td>\n",
       "      <td>636638</td>\n",
       "    </tr>\n",
       "    <tr>\n",
       "      <th>2</th>\n",
       "      <td>2018-04-23</td>\n",
       "      <td>Credit reporting, credit repair services, or o...</td>\n",
       "      <td>Credit reporting</td>\n",
       "      <td>Incorrect information on your report</td>\n",
       "      <td>Information belongs to someone else</td>\n",
       "      <td>NaN</td>\n",
       "      <td>Company has responded to the consumer and the ...</td>\n",
       "      <td>Experian Information Solutions Inc.</td>\n",
       "      <td>TX</td>\n",
       "      <td>77386</td>\n",
       "      <td>NaN</td>\n",
       "      <td>NaN</td>\n",
       "      <td>Fax</td>\n",
       "      <td>2018-04-23</td>\n",
       "      <td>Closed with explanation</td>\n",
       "      <td>Yes</td>\n",
       "      <td>NaN</td>\n",
       "      <td>2883487</td>\n",
       "    </tr>\n",
       "    <tr>\n",
       "      <th>3</th>\n",
       "      <td>2019-01-04</td>\n",
       "      <td>Checking or savings account</td>\n",
       "      <td>Checking account</td>\n",
       "      <td>Managing an account</td>\n",
       "      <td>Deposits and withdrawals</td>\n",
       "      <td>NaN</td>\n",
       "      <td>NaN</td>\n",
       "      <td>HSBC NORTH AMERICA HOLDINGS INC.</td>\n",
       "      <td>AZ</td>\n",
       "      <td>94521</td>\n",
       "      <td>NaN</td>\n",
       "      <td>NaN</td>\n",
       "      <td>Referral</td>\n",
       "      <td>2019-01-08</td>\n",
       "      <td>Closed with explanation</td>\n",
       "      <td>Yes</td>\n",
       "      <td>NaN</td>\n",
       "      <td>3118526</td>\n",
       "    </tr>\n",
       "    <tr>\n",
       "      <th>4</th>\n",
       "      <td>2014-07-22</td>\n",
       "      <td>Debt collection</td>\n",
       "      <td>Payday loan</td>\n",
       "      <td>Cont'd attempts collect debt not owed</td>\n",
       "      <td>Debt is not mine</td>\n",
       "      <td>NaN</td>\n",
       "      <td>NaN</td>\n",
       "      <td>ENOVA INTERNATIONAL, INC.</td>\n",
       "      <td>GA</td>\n",
       "      <td>30038</td>\n",
       "      <td>NaN</td>\n",
       "      <td>NaN</td>\n",
       "      <td>Web</td>\n",
       "      <td>2014-07-22</td>\n",
       "      <td>Closed with explanation</td>\n",
       "      <td>Yes</td>\n",
       "      <td>No</td>\n",
       "      <td>948293</td>\n",
       "    </tr>\n",
       "  </tbody>\n",
       "</table>\n",
       "</div>"
      ],
      "text/plain": [
       "  Date received                                            Product  \\\n",
       "0    2012-12-24                                        Credit card   \n",
       "1    2013-12-17                                           Mortgage   \n",
       "2    2018-04-23  Credit reporting, credit repair services, or o...   \n",
       "3    2019-01-04                        Checking or savings account   \n",
       "4    2014-07-22                                    Debt collection   \n",
       "\n",
       "                   Sub-product                                     Issue  \\\n",
       "0                          NaN                                   Rewards   \n",
       "1  Conventional fixed mortgage  Application, originator, mortgage broker   \n",
       "2             Credit reporting      Incorrect information on your report   \n",
       "3             Checking account                       Managing an account   \n",
       "4                  Payday loan     Cont'd attempts collect debt not owed   \n",
       "\n",
       "                             Sub-issue Consumer complaint narrative  \\\n",
       "0                                  NaN                          NaN   \n",
       "1                                  NaN                          NaN   \n",
       "2  Information belongs to someone else                          NaN   \n",
       "3             Deposits and withdrawals                          NaN   \n",
       "4                     Debt is not mine                          NaN   \n",
       "\n",
       "                             Company public response  \\\n",
       "0                                                NaN   \n",
       "1                                                NaN   \n",
       "2  Company has responded to the consumer and the ...   \n",
       "3                                                NaN   \n",
       "4                                                NaN   \n",
       "\n",
       "                                 Company State ZIP code Tags  \\\n",
       "0  BANK OF AMERICA, NATIONAL ASSOCIATION    IL    60611  NaN   \n",
       "1          REGIONS FINANCIAL CORPORATION    FL    33415  NaN   \n",
       "2    Experian Information Solutions Inc.    TX    77386  NaN   \n",
       "3       HSBC NORTH AMERICA HOLDINGS INC.    AZ    94521  NaN   \n",
       "4              ENOVA INTERNATIONAL, INC.    GA    30038  NaN   \n",
       "\n",
       "  Consumer consent provided? Submitted via Date sent to company  \\\n",
       "0                        NaN           Web           2012-12-24   \n",
       "1                        NaN           Web           2013-12-17   \n",
       "2                        NaN           Fax           2018-04-23   \n",
       "3                        NaN      Referral           2019-01-08   \n",
       "4                        NaN           Web           2014-07-22   \n",
       "\n",
       "  Company response to consumer Timely response? Consumer disputed?  \\\n",
       "0      Closed with explanation              Yes                 No   \n",
       "1      Closed with explanation              Yes                Yes   \n",
       "2      Closed with explanation              Yes                NaN   \n",
       "3      Closed with explanation              Yes                NaN   \n",
       "4      Closed with explanation              Yes                 No   \n",
       "\n",
       "   Complaint ID  \n",
       "0        217083  \n",
       "1        636638  \n",
       "2       2883487  \n",
       "3       3118526  \n",
       "4        948293  "
      ]
     },
     "execution_count": 31,
     "metadata": {},
     "output_type": "execute_result"
    }
   ],
   "source": [
    "# Load data from GitHub\n",
    "path = \"https://raw.githubusercontent.com/LKunz/Projets/refs/heads/main/Data%20Science/data/complaints_sample.csv\"\n",
    "df = pd.read_csv(path, index_col=0)\n",
    "df.head()"
   ]
  },
  {
   "cell_type": "code",
   "execution_count": 32,
   "metadata": {
    "id": "Cys9L2XidZsq"
   },
   "outputs": [
    {
     "name": "stdout",
     "output_type": "stream",
     "text": [
      "<class 'pandas.core.frame.DataFrame'>\n",
      "Int64Index: 9101 entries, 0 to 9100\n",
      "Data columns (total 18 columns):\n",
      " #   Column                        Non-Null Count  Dtype \n",
      "---  ------                        --------------  ----- \n",
      " 0   Date received                 9101 non-null   object\n",
      " 1   Product                       9101 non-null   object\n",
      " 2   Sub-product                   7942 non-null   object\n",
      " 3   Issue                         9101 non-null   object\n",
      " 4   Sub-issue                     6251 non-null   object\n",
      " 5   Consumer complaint narrative  3137 non-null   object\n",
      " 6   Company public response       3863 non-null   object\n",
      " 7   Company                       9101 non-null   object\n",
      " 8   State                         8946 non-null   object\n",
      " 9   ZIP code                      8199 non-null   object\n",
      " 10  Tags                          1171 non-null   object\n",
      " 11  Consumer consent provided?    5869 non-null   object\n",
      " 12  Submitted via                 9101 non-null   object\n",
      " 13  Date sent to company          9101 non-null   object\n",
      " 14  Company response to consumer  9101 non-null   object\n",
      " 15  Timely response?              9101 non-null   object\n",
      " 16  Consumer disputed?            3712 non-null   object\n",
      " 17  Complaint ID                  9101 non-null   int64 \n",
      "dtypes: int64(1), object(17)\n",
      "memory usage: 1.3+ MB\n"
     ]
    }
   ],
   "source": [
    "df.info()"
   ]
  },
  {
   "cell_type": "markdown",
   "metadata": {
    "id": "Pyg-rztyPJ6e"
   },
   "source": [
    "The data set includes 18 columns and 9101 rows describing consumer complaints about financial products. In this case, we want to predict the `Product` categorie based on the text of the complaint (i.e. `Consumer complaint narrative`)."
   ]
  },
  {
   "cell_type": "code",
   "execution_count": 33,
   "metadata": {
    "id": "9mgx17mnpy2s"
   },
   "outputs": [
    {
     "data": {
      "text/html": [
       "<div>\n",
       "<style scoped>\n",
       "    .dataframe tbody tr th:only-of-type {\n",
       "        vertical-align: middle;\n",
       "    }\n",
       "\n",
       "    .dataframe tbody tr th {\n",
       "        vertical-align: top;\n",
       "    }\n",
       "\n",
       "    .dataframe thead th {\n",
       "        text-align: right;\n",
       "    }\n",
       "</style>\n",
       "<table border=\"1\" class=\"dataframe\">\n",
       "  <thead>\n",
       "    <tr style=\"text-align: right;\">\n",
       "      <th></th>\n",
       "      <th>Product</th>\n",
       "      <th>Consumer complaint narrative</th>\n",
       "    </tr>\n",
       "  </thead>\n",
       "  <tbody>\n",
       "    <tr>\n",
       "      <th>0</th>\n",
       "      <td>Credit card</td>\n",
       "      <td>NaN</td>\n",
       "    </tr>\n",
       "    <tr>\n",
       "      <th>1</th>\n",
       "      <td>Mortgage</td>\n",
       "      <td>NaN</td>\n",
       "    </tr>\n",
       "    <tr>\n",
       "      <th>2</th>\n",
       "      <td>Credit reporting, credit repair services, or o...</td>\n",
       "      <td>NaN</td>\n",
       "    </tr>\n",
       "    <tr>\n",
       "      <th>3</th>\n",
       "      <td>Checking or savings account</td>\n",
       "      <td>NaN</td>\n",
       "    </tr>\n",
       "    <tr>\n",
       "      <th>4</th>\n",
       "      <td>Debt collection</td>\n",
       "      <td>NaN</td>\n",
       "    </tr>\n",
       "  </tbody>\n",
       "</table>\n",
       "</div>"
      ],
      "text/plain": [
       "                                             Product  \\\n",
       "0                                        Credit card   \n",
       "1                                           Mortgage   \n",
       "2  Credit reporting, credit repair services, or o...   \n",
       "3                        Checking or savings account   \n",
       "4                                    Debt collection   \n",
       "\n",
       "  Consumer complaint narrative  \n",
       "0                          NaN  \n",
       "1                          NaN  \n",
       "2                          NaN  \n",
       "3                          NaN  \n",
       "4                          NaN  "
      ]
     },
     "execution_count": 33,
     "metadata": {},
     "output_type": "execute_result"
    }
   ],
   "source": [
    "# Select columns of interest\n",
    "data = df[[\"Product\", \"Consumer complaint narrative\"]]\n",
    "data.head()"
   ]
  },
  {
   "cell_type": "markdown",
   "metadata": {
    "id": "NhB01GG6QXVP"
   },
   "source": [
    "Around 2/3 of the complaints are null values. They are not useful for the prediction so we drop them."
   ]
  },
  {
   "cell_type": "code",
   "execution_count": 34,
   "metadata": {
    "id": "mbno4wghqCNH"
   },
   "outputs": [
    {
     "name": "stdout",
     "output_type": "stream",
     "text": [
      "Product                            0\n",
      "Consumer complaint narrative    5964\n",
      "dtype: int64\n"
     ]
    },
    {
     "data": {
      "text/html": [
       "<div>\n",
       "<style scoped>\n",
       "    .dataframe tbody tr th:only-of-type {\n",
       "        vertical-align: middle;\n",
       "    }\n",
       "\n",
       "    .dataframe tbody tr th {\n",
       "        vertical-align: top;\n",
       "    }\n",
       "\n",
       "    .dataframe thead th {\n",
       "        text-align: right;\n",
       "    }\n",
       "</style>\n",
       "<table border=\"1\" class=\"dataframe\">\n",
       "  <thead>\n",
       "    <tr style=\"text-align: right;\">\n",
       "      <th></th>\n",
       "      <th>Product</th>\n",
       "      <th>Consumer complaint narrative</th>\n",
       "    </tr>\n",
       "  </thead>\n",
       "  <tbody>\n",
       "    <tr>\n",
       "      <th>0</th>\n",
       "      <td>Credit card or prepaid card</td>\n",
       "      <td>Back in XX/XX/2019 a company called XXXX charg...</td>\n",
       "    </tr>\n",
       "    <tr>\n",
       "      <th>1</th>\n",
       "      <td>Credit reporting, credit repair services, or o...</td>\n",
       "      <td>XXXX is reporting a single late payment over 7...</td>\n",
       "    </tr>\n",
       "    <tr>\n",
       "      <th>2</th>\n",
       "      <td>Credit reporting, credit repair services, or o...</td>\n",
       "      <td>I have disputed the following account, ( 1 ) X...</td>\n",
       "    </tr>\n",
       "    <tr>\n",
       "      <th>3</th>\n",
       "      <td>Credit reporting, credit repair services, or o...</td>\n",
       "      <td>In XX/XX/XXXXI disputed the following items on...</td>\n",
       "    </tr>\n",
       "    <tr>\n",
       "      <th>4</th>\n",
       "      <td>Credit card or prepaid card</td>\n",
       "      <td>The response from Citi Cards has cleared up a ...</td>\n",
       "    </tr>\n",
       "  </tbody>\n",
       "</table>\n",
       "</div>"
      ],
      "text/plain": [
       "                                             Product  \\\n",
       "0                        Credit card or prepaid card   \n",
       "1  Credit reporting, credit repair services, or o...   \n",
       "2  Credit reporting, credit repair services, or o...   \n",
       "3  Credit reporting, credit repair services, or o...   \n",
       "4                        Credit card or prepaid card   \n",
       "\n",
       "                        Consumer complaint narrative  \n",
       "0  Back in XX/XX/2019 a company called XXXX charg...  \n",
       "1  XXXX is reporting a single late payment over 7...  \n",
       "2  I have disputed the following account, ( 1 ) X...  \n",
       "3  In XX/XX/XXXXI disputed the following items on...  \n",
       "4  The response from Citi Cards has cleared up a ...  "
      ]
     },
     "execution_count": 34,
     "metadata": {},
     "output_type": "execute_result"
    }
   ],
   "source": [
    "# Drop NaN\n",
    "print(data.isnull().sum())\n",
    "data = data.dropna().reset_index(drop=True)\n",
    "data.head()"
   ]
  },
  {
   "cell_type": "code",
   "execution_count": 35,
   "metadata": {
    "id": "mgb3yc3KqCLr"
   },
   "outputs": [
    {
     "name": "stdout",
     "output_type": "stream",
     "text": [
      "<class 'pandas.core.frame.DataFrame'>\n",
      "RangeIndex: 3137 entries, 0 to 3136\n",
      "Data columns (total 2 columns):\n",
      " #   Column                        Non-Null Count  Dtype \n",
      "---  ------                        --------------  ----- \n",
      " 0   Product                       3137 non-null   object\n",
      " 1   Consumer complaint narrative  3137 non-null   object\n",
      "dtypes: object(2)\n",
      "memory usage: 49.1+ KB\n"
     ]
    }
   ],
   "source": [
    "data.info()"
   ]
  },
  {
   "cell_type": "markdown",
   "metadata": {
    "id": "hCasthTDQrYb"
   },
   "source": [
    "We end up with 3137 complaints for which we would like to predict the product concerned."
   ]
  },
  {
   "cell_type": "markdown",
   "metadata": {
    "id": "Rc8z_6SkTIx2"
   },
   "source": [
    "### 3.2 EDA"
   ]
  },
  {
   "cell_type": "code",
   "execution_count": 36,
   "metadata": {
    "id": "1JQ8GFf0ihb3"
   },
   "outputs": [
    {
     "data": {
      "text/plain": [
       "610062"
      ]
     },
     "execution_count": 36,
     "metadata": {},
     "output_type": "execute_result"
    }
   ],
   "source": [
    "# Total number of words - over 600,000\n",
    "data['Consumer complaint narrative'].apply(lambda x: len(x.split(' '))).sum()"
   ]
  },
  {
   "cell_type": "code",
   "execution_count": 37,
   "metadata": {
    "id": "ppQTFaZ6t9dy"
   },
   "outputs": [
    {
     "data": {
      "text/plain": [
       "\"I recieved a transfer of funds from someone for purchase of computer and the funds were fraudulent they froze my account and stated that freeze would be removed when investigation was complete so I was later told needed to close account and open another because funds had been released and now someone different was trying to withdraw funds so money was mine and could get it and deposit it in new acct. went ti bank where branch manager phoned fraud department who stated same thing that funds were mine and 8 could withdraw them and deposit some in new account, which I did and a few days later was told that funds were returned to person claiming that he dud not make deposit and now they claim I am responsible for those funds I don't belive I am responsible for any funds due to fact manager was told same thing that funds were mine to do with as I pleased and that someone not me was trying to withdraw funds and with proper ID could release funds to me and open new acct. with those funds or withdraw them\""
      ]
     },
     "execution_count": 37,
     "metadata": {},
     "output_type": "execute_result"
    }
   ],
   "source": [
    "# Sample\n",
    "data['Consumer complaint narrative'].sample().values[0]"
   ]
  },
  {
   "cell_type": "markdown",
   "metadata": {
    "id": "HDpSTJyZQ6O5"
   },
   "source": [
    "The data has been anonymized (i.e. names, dates, IDs, etc. have been replaced by XXXX)."
   ]
  },
  {
   "cell_type": "code",
   "execution_count": 38,
   "metadata": {
    "id": "vdDpzPPouaSN"
   },
   "outputs": [
    {
     "data": {
      "text/plain": [
       "Credit reporting, credit repair services, or other personal consumer reports    1123\n",
       "Debt collection                                                                  640\n",
       "Mortgage                                                                         378\n",
       "Credit card or prepaid card                                                      211\n",
       "Credit reporting                                                                 167\n",
       "Student loan                                                                     129\n",
       "Checking or savings account                                                      119\n",
       "Credit card                                                                       74\n",
       "Money transfer, virtual currency, or money service                                64\n",
       "Bank account or service                                                           64\n",
       "Vehicle loan or lease                                                             57\n",
       "Payday loan, title loan, or personal loan                                         47\n",
       "Consumer Loan                                                                     38\n",
       "Payday loan                                                                        8\n",
       "Money transfers                                                                    8\n",
       "Prepaid card                                                                       6\n",
       "Other financial service                                                            4\n",
       "Name: Product, dtype: int64"
      ]
     },
     "execution_count": 38,
     "metadata": {},
     "output_type": "execute_result"
    }
   ],
   "source": [
    "# Imbalanced dataset\n",
    "data.Product.value_counts()"
   ]
  },
  {
   "cell_type": "markdown",
   "metadata": {
    "id": "FDon6qpmRMzo"
   },
   "source": [
    "There are 17 categories. We group some of them together (e.g. `Credit card`, `Prepaid card`, and `Credit or prepaid card`) because they are sub-categories of each other. We end up with 12 categories."
   ]
  },
  {
   "cell_type": "code",
   "execution_count": 39,
   "metadata": {
    "id": "er1kzzv3vBSt"
   },
   "outputs": [
    {
     "data": {
      "text/plain": [
       "Credit reporting, credit repair services, or other personal consumer reports    1290\n",
       "Debt collection                                                                  640\n",
       "Mortgage                                                                         378\n",
       "Credit card or prepaid card                                                      291\n",
       "Student loan                                                                     129\n",
       "Checking or savings account                                                      119\n",
       "Money transfer, virtual currency, or money service                                72\n",
       "Bank account or service                                                           64\n",
       "Vehicle loan or lease                                                             57\n",
       "Payday loan, title loan, or personal loan                                         55\n",
       "Consumer Loan                                                                     38\n",
       "Other financial service                                                            4\n",
       "Name: Product, dtype: int64"
      ]
     },
     "execution_count": 39,
     "metadata": {},
     "output_type": "execute_result"
    }
   ],
   "source": [
    "# Clean\n",
    "dic_replace = {'Credit reporting':'Credit reporting, credit repair services, or other personal consumer reports', \n",
    "               'Credit card':'Credit card or prepaid card', \n",
    "               'Payday loan':'Payday loan, title loan, or personal loan', \n",
    "               'Money transfers':'Money transfer, virtual currency, or money service',\n",
    "               'Prepaid card':'Credit card or prepaid card',\n",
    "               'Virtual currency':'Money transfer, virtual currency, or money service'}\n",
    "data.replace(dic_replace, inplace=True)\n",
    "data.Product.value_counts()"
   ]
  },
  {
   "cell_type": "code",
   "execution_count": 40,
   "metadata": {
    "id": "iEeOpaMQtgAA"
   },
   "outputs": [
    {
     "data": {
      "image/png": "[encoded data removed]",
      "text/plain": [
       "<Figure size 1200x400 with 1 Axes>"
      ]
     },
     "metadata": {},
     "output_type": "display_data"
    }
   ],
   "source": [
    "# Plot number of complaints per category\n",
    "cnt_pro = data['Product'].value_counts()\n",
    "plt.figure(figsize=(12,4))\n",
    "sns.barplot(x=data['Product'], y=data.index, data=data, alpha=0.8)\n",
    "plt.ylabel('Number of Occurrences', fontsize=12)\n",
    "plt.xlabel('Product', fontsize=12)\n",
    "plt.xticks(rotation=90)\n",
    "plt.show()"
   ]
  },
  {
   "cell_type": "code",
   "execution_count": 41,
   "metadata": {
    "id": "5JdF1razudYJ"
   },
   "outputs": [
    {
     "data": {
      "text/plain": [
       "0.4112"
      ]
     },
     "execution_count": 41,
     "metadata": {},
     "output_type": "execute_result"
    }
   ],
   "source": [
    "# Base rate\n",
    "round(len(data[data.Product == \"Credit reporting, credit repair services, or other personal consumer reports\"]) / len (data), 4)"
   ]
  },
  {
   "cell_type": "markdown",
   "metadata": {
    "id": "bBr6OSytTLgD"
   },
   "source": [
    "### 3.3 Classification using TF-IDF and Logistic Regression"
   ]
  },
  {
   "cell_type": "code",
   "execution_count": 42,
   "metadata": {
    "id": "eU2xSf8sTevp"
   },
   "outputs": [],
   "source": [
    "# Import packages\n",
    "from sklearn.linear_model import LogisticRegression\n",
    "from sklearn.model_selection import train_test_split\n",
    "from sklearn.pipeline import Pipeline\n",
    "from sklearn.metrics import confusion_matrix, accuracy_score"
   ]
  },
  {
   "cell_type": "code",
   "execution_count": 43,
   "metadata": {
    "id": "vXHnUbjerLPD"
   },
   "outputs": [],
   "source": [
    "# Define tokenizer function\n",
    "def spacy_tokenizer(sentence):\n",
    "\n",
    "    punctuations = string.punctuation\n",
    "    stop_words = spacy.lang.en.stop_words.STOP_WORDS\n",
    "\n",
    "    # Create token object, which is used to create documents with linguistic annotations.\n",
    "    mytokens = sp(sentence)\n",
    "\n",
    "    # Lemmatize each token and convert each token into lowercase\n",
    "    mytokens = [ word.lemma_.lower().strip() if word.lemma_ != \"-PRON-\" else word.lower_ for word in mytokens ]\n",
    "\n",
    "    # Remove stop words and punctuation\n",
    "    mytokens = [ word for word in mytokens if word not in stop_words and word not in punctuations ]\n",
    "\n",
    "    # Remove anonymous dates and people\n",
    "    mytokens = [ word.replace('xx/', '').replace('xxxx/', '').replace('xx', '') for word in mytokens ]\n",
    "    mytokens = [ word for word in mytokens if word not in [\"xxxx\", \"xx\", \"\"] ]\n",
    "\n",
    "    # Return preprocessed list of tokens\n",
    "    return mytokens"
   ]
  },
  {
   "cell_type": "code",
   "execution_count": 44,
   "metadata": {
    "id": "38ttjGhrihZF"
   },
   "outputs": [
    {
     "data": {
      "text/plain": [
       "949     I have contacted Equifax several times via pho...\n",
       "884     There are many mistakes appear in my report wi...\n",
       "1441    I received a notice of debt from PSC regarding...\n",
       "582     AFTER RECEIVING A CURRENT COPY OF MY CREDIT RE...\n",
       "1515    A check was stolen from our checkbook and cash...\n",
       "                              ...                        \n",
       "664     Home Depot credit card number on bill does not...\n",
       "3125    Lawsuit and judgment filed against me for a de...\n",
       "1318    Was lied to about the payment and what the pay...\n",
       "723     To All party involve XXXX XXXX. XXXX XXXX XXXX...\n",
       "2863    I tried unsuccessfully today ( XX/XX/2017 ) to...\n",
       "Name: Consumer complaint narrative, Length: 2509, dtype: object"
      ]
     },
     "execution_count": 44,
     "metadata": {},
     "output_type": "execute_result"
    }
   ],
   "source": [
    "# Select features\n",
    "X = data['Consumer complaint narrative'] # the features we want to analyze\n",
    "ylabels = data['Product'] # the labels, or answers, we want to test against\n",
    "\n",
    "# Train test split\n",
    "X_train, X_test, y_train, y_test = train_test_split(X, ylabels, test_size=0.2, random_state=1234)\n",
    "\n",
    "X_train"
   ]
  },
  {
   "cell_type": "code",
   "execution_count": 45,
   "metadata": {
    "id": "dOHhL3ZgxUZh"
   },
   "outputs": [
    {
     "data": {
      "text/plain": [
       "949     Credit reporting, credit repair services, or o...\n",
       "884     Credit reporting, credit repair services, or o...\n",
       "1441                                      Debt collection\n",
       "582     Credit reporting, credit repair services, or o...\n",
       "1515                          Checking or savings account\n",
       "                              ...                        \n",
       "664                           Credit card or prepaid card\n",
       "3125                                      Debt collection\n",
       "1318                                      Debt collection\n",
       "723     Credit reporting, credit repair services, or o...\n",
       "2863    Credit reporting, credit repair services, or o...\n",
       "Name: Product, Length: 2509, dtype: object"
      ]
     },
     "execution_count": 45,
     "metadata": {},
     "output_type": "execute_result"
    }
   ],
   "source": [
    "y_train"
   ]
  },
  {
   "cell_type": "code",
   "execution_count": 46,
   "metadata": {
    "id": "3tTbx3oswIan"
   },
   "outputs": [
    {
     "name": "stdout",
     "output_type": "stream",
     "text": [
      "CPU times: total: 2min 6s\n",
      "Wall time: 2min 6s\n"
     ]
    },
    {
     "data": {
      "text/html": [
       "<style>#sk-container-id-1 {color: black;background-color: white;}#sk-container-id-1 pre{padding: 0;}#sk-container-id-1 div.sk-toggleable {background-color: white;}#sk-container-id-1 label.sk-toggleable__label {cursor: pointer;display: block;width: 100%;margin-bottom: 0;padding: 0.3em;box-sizing: border-box;text-align: center;}#sk-container-id-1 label.sk-toggleable__label-arrow:before {content: \"▸\";float: left;margin-right: 0.25em;color: #696969;}#sk-container-id-1 label.sk-toggleable__label-arrow:hover:before {color: black;}#sk-container-id-1 div.sk-estimator:hover label.sk-toggleable__label-arrow:before {color: black;}#sk-container-id-1 div.sk-toggleable__content {max-height: 0;max-width: 0;overflow: hidden;text-align: left;background-color: #f0f8ff;}#sk-container-id-1 div.sk-toggleable__content pre {margin: 0.2em;color: black;border-radius: 0.25em;background-color: #f0f8ff;}#sk-container-id-1 input.sk-toggleable__control:checked~div.sk-toggleable__content {max-height: 200px;max-width: 100%;overflow: auto;}#sk-container-id-1 input.sk-toggleable__control:checked~label.sk-toggleable__label-arrow:before {content: \"▾\";}#sk-container-id-1 div.sk-estimator input.sk-toggleable__control:checked~label.sk-toggleable__label {background-color: #d4ebff;}#sk-container-id-1 div.sk-label input.sk-toggleable__control:checked~label.sk-toggleable__label {background-color: #d4ebff;}#sk-container-id-1 input.sk-hidden--visually {border: 0;clip: rect(1px 1px 1px 1px);clip: rect(1px, 1px, 1px, 1px);height: 1px;margin: -1px;overflow: hidden;padding: 0;position: absolute;width: 1px;}#sk-container-id-1 div.sk-estimator {font-family: monospace;background-color: #f0f8ff;border: 1px dotted black;border-radius: 0.25em;box-sizing: border-box;margin-bottom: 0.5em;}#sk-container-id-1 div.sk-estimator:hover {background-color: #d4ebff;}#sk-container-id-1 div.sk-parallel-item::after {content: \"\";width: 100%;border-bottom: 1px solid gray;flex-grow: 1;}#sk-container-id-1 div.sk-label:hover label.sk-toggleable__label {background-color: #d4ebff;}#sk-container-id-1 div.sk-serial::before {content: \"\";position: absolute;border-left: 1px solid gray;box-sizing: border-box;top: 0;bottom: 0;left: 50%;z-index: 0;}#sk-container-id-1 div.sk-serial {display: flex;flex-direction: column;align-items: center;background-color: white;padding-right: 0.2em;padding-left: 0.2em;position: relative;}#sk-container-id-1 div.sk-item {position: relative;z-index: 1;}#sk-container-id-1 div.sk-parallel {display: flex;align-items: stretch;justify-content: center;background-color: white;position: relative;}#sk-container-id-1 div.sk-item::before, #sk-container-id-1 div.sk-parallel-item::before {content: \"\";position: absolute;border-left: 1px solid gray;box-sizing: border-box;top: 0;bottom: 0;left: 50%;z-index: -1;}#sk-container-id-1 div.sk-parallel-item {display: flex;flex-direction: column;z-index: 1;position: relative;background-color: white;}#sk-container-id-1 div.sk-parallel-item:first-child::after {align-self: flex-end;width: 50%;}#sk-container-id-1 div.sk-parallel-item:last-child::after {align-self: flex-start;width: 50%;}#sk-container-id-1 div.sk-parallel-item:only-child::after {width: 0;}#sk-container-id-1 div.sk-dashed-wrapped {border: 1px dashed gray;margin: 0 0.4em 0.5em 0.4em;box-sizing: border-box;padding-bottom: 0.4em;background-color: white;}#sk-container-id-1 div.sk-label label {font-family: monospace;font-weight: bold;display: inline-block;line-height: 1.2em;}#sk-container-id-1 div.sk-label-container {text-align: center;}#sk-container-id-1 div.sk-container {/* jupyter's `normalize.less` sets `[hidden] { display: none; }` but bootstrap.min.css set `[hidden] { display: none !important; }` so we also need the `!important` here to be able to override the default hidden behavior on the sphinx rendered scikit-learn.org. See: https://github.com/scikit-learn/scikit-learn/issues/21755 */display: inline-block !important;position: relative;}#sk-container-id-1 div.sk-text-repr-fallback {display: none;}</style><div id=\"sk-container-id-1\" class=\"sk-top-container\"><div class=\"sk-text-repr-fallback\"><pre>Pipeline(steps=[(&#x27;vectorizer&#x27;,\n",
       "                 TfidfVectorizer(encoding=&#x27;latin-1&#x27;, min_df=5,\n",
       "                                 ngram_range=(1, 2), sublinear_tf=True,\n",
       "                                 tokenizer=&lt;function spacy_tokenizer at 0x000001EF4A3910D0&gt;)),\n",
       "                (&#x27;classifier&#x27;, LogisticRegression(max_iter=1000))])</pre><b>In a Jupyter environment, please rerun this cell to show the HTML representation or trust the notebook. <br />On GitHub, the HTML representation is unable to render, please try loading this page with nbviewer.org.</b></div><div class=\"sk-container\" hidden><div class=\"sk-item sk-dashed-wrapped\"><div class=\"sk-label-container\"><div class=\"sk-label sk-toggleable\"><input class=\"sk-toggleable__control sk-hidden--visually\" id=\"sk-estimator-id-1\" type=\"checkbox\" ><label for=\"sk-estimator-id-1\" class=\"sk-toggleable__label sk-toggleable__label-arrow\">Pipeline</label><div class=\"sk-toggleable__content\"><pre>Pipeline(steps=[(&#x27;vectorizer&#x27;,\n",
       "                 TfidfVectorizer(encoding=&#x27;latin-1&#x27;, min_df=5,\n",
       "                                 ngram_range=(1, 2), sublinear_tf=True,\n",
       "                                 tokenizer=&lt;function spacy_tokenizer at 0x000001EF4A3910D0&gt;)),\n",
       "                (&#x27;classifier&#x27;, LogisticRegression(max_iter=1000))])</pre></div></div></div><div class=\"sk-serial\"><div class=\"sk-item\"><div class=\"sk-estimator sk-toggleable\"><input class=\"sk-toggleable__control sk-hidden--visually\" id=\"sk-estimator-id-2\" type=\"checkbox\" ><label for=\"sk-estimator-id-2\" class=\"sk-toggleable__label sk-toggleable__label-arrow\">TfidfVectorizer</label><div class=\"sk-toggleable__content\"><pre>TfidfVectorizer(encoding=&#x27;latin-1&#x27;, min_df=5, ngram_range=(1, 2),\n",
       "                sublinear_tf=True,\n",
       "                tokenizer=&lt;function spacy_tokenizer at 0x000001EF4A3910D0&gt;)</pre></div></div></div><div class=\"sk-item\"><div class=\"sk-estimator sk-toggleable\"><input class=\"sk-toggleable__control sk-hidden--visually\" id=\"sk-estimator-id-3\" type=\"checkbox\" ><label for=\"sk-estimator-id-3\" class=\"sk-toggleable__label sk-toggleable__label-arrow\">LogisticRegression</label><div class=\"sk-toggleable__content\"><pre>LogisticRegression(max_iter=1000)</pre></div></div></div></div></div></div></div>"
      ],
      "text/plain": [
       "Pipeline(steps=[('vectorizer',\n",
       "                 TfidfVectorizer(encoding='latin-1', min_df=5,\n",
       "                                 ngram_range=(1, 2), sublinear_tf=True,\n",
       "                                 tokenizer=<function spacy_tokenizer at 0x000001EF4A3910D0>)),\n",
       "                ('classifier', LogisticRegression(max_iter=1000))])"
      ]
     },
     "execution_count": 46,
     "metadata": {},
     "output_type": "execute_result"
    }
   ],
   "source": [
    "%%time\n",
    "# Define vectorizer\n",
    "tfidf = TfidfVectorizer(sublinear_tf=True, min_df=5, norm='l2', encoding='latin-1', ngram_range=(1, 2), tokenizer=spacy_tokenizer)\n",
    "\n",
    "# Define classifier\n",
    "classifier = LogisticRegression(solver='lbfgs', max_iter=1000)\n",
    "\n",
    "# Create pipeline\n",
    "pipe = Pipeline([('vectorizer', tfidf),\n",
    "                 ('classifier', classifier)])\n",
    "\n",
    "# Fit model on training set\n",
    "pipe.fit(X_train, y_train)"
   ]
  },
  {
   "cell_type": "code",
   "execution_count": 47,
   "metadata": {
    "id": "dC3Pbqxlxod2"
   },
   "outputs": [
    {
     "name": "stdout",
     "output_type": "stream",
     "text": [
      "0.7373\n"
     ]
    },
    {
     "data": {
      "image/png": "[encoded data removed]",
      "text/plain": [
       "<Figure size 1500x1500 with 2 Axes>"
      ]
     },
     "metadata": {},
     "output_type": "display_data"
    }
   ],
   "source": [
    "# Predictions\n",
    "y_pred = pipe.predict(X_test)\n",
    "\n",
    "# Evaluate model\n",
    "print(round(accuracy_score(y_test, y_pred), 4))\n",
    "conf_mat = confusion_matrix(y_test, y_pred)\n",
    "fig, ax = plt.subplots(figsize=(15,15))\n",
    "sns.heatmap(conf_mat, annot=True, fmt='d')\n",
    "plt.ylabel('Actual')\n",
    "plt.xlabel('Predicted')\n",
    "plt.show()"
   ]
  },
  {
   "cell_type": "markdown",
   "metadata": {
    "id": "Thl75Ei5TRZz"
   },
   "source": [
    "### 3.4 Classification using Doc2Vec and Logistic Regression\n",
    "We now try to do the same exercise, but using [Doc2Vec](https://radimrehurek.com/gensim/models/doc2vec.html)."
   ]
  },
  {
   "cell_type": "code",
   "execution_count": 48,
   "metadata": {
    "id": "PDBzqEryVgSY"
   },
   "outputs": [
    {
     "name": "stdout",
     "output_type": "stream",
     "text": [
      "0     ([2019, company, charge, credit, card, 230.00,...\n",
      "1     ([report, single, late, payment, 7, year, old,...\n",
      "2     ([dispute, following, account, 1, 4.00, 2, 0.0...\n",
      "3     ([i, dispute, follow, item, credit, report, bu...\n",
      "4     ([response, citi, cards, clear, lot, confusion...\n",
      "5     ([concern, contact, today, try, payment, mortg...\n",
      "6     ([write, letter, file, complaint, begin, recei...\n",
      "7     ([2016, purchase, truck, tell, finance, manage...\n",
      "8     ([employer, submit, background, check, receive...\n",
      "9     ([authorize, hard, credit, pull, credit, autho...\n",
      "10    ([rushcard, access, fund, account, negative, b...\n",
      "11    ([old, closed, account, remove, old, voluntary...\n",
      "12    ([executive, offices, department, credit, card...\n",
      "13    ([2, hard, inquiries, cbna, apply, card, suspe...\n",
      "14    ([hard, inquiry, submit, credit, report, barcl...\n",
      "15    ([request, credit, report, notice, account, re...\n",
      "16    ([yes, send, letter, state, want, verification...\n",
      "17    ([capital, auto, finance, tx, copy, letter, se...\n",
      "18    ([hi, transfer, money, brother, law, bank, acc...\n",
      "19    ([contact, mortgage, company, inform, start, n...\n",
      "dtype: object\n",
      "CPU times: total: 2min 35s\n",
      "Wall time: 2min 39s\n"
     ]
    }
   ],
   "source": [
    "%%time\n",
    "# Tokenize data - same tokenizer function as before\n",
    "from gensim.models.doc2vec import TaggedDocument\n",
    "sample_tagged = data.apply(lambda r: TaggedDocument(words=spacy_tokenizer(r['Consumer complaint narrative']), tags=[r.Product]), axis=1)\n",
    "print(sample_tagged.head(20))"
   ]
  },
  {
   "cell_type": "code",
   "execution_count": 49,
   "metadata": {
    "id": "-hatOMpSPAqw"
   },
   "outputs": [
    {
     "data": {
      "text/plain": [
       "TaggedDocument(words=['rushcard', 'access', 'fund', 'account', 'negative', 'balance', 'week', 'customer', 'service', 'hang', 'numerous', 'time', 'hold', 'hr', 'time', 've', 'finally', 'tell', 'idea', 'money', 've', 'file', 'email', 'complaint', 'receive', 'different', 'ticket', 'number', \"''\", 'respond', 'week', 'basically', 'm', 'answer'], tags=['Credit card or prepaid card'])"
      ]
     },
     "execution_count": 49,
     "metadata": {},
     "output_type": "execute_result"
    }
   ],
   "source": [
    "sample_tagged.values[10]"
   ]
  },
  {
   "cell_type": "code",
   "execution_count": 50,
   "metadata": {
    "id": "KdSvlQf26uZb"
   },
   "outputs": [
    {
     "data": {
      "text/plain": [
       "949     ([contact, equifax, time, phone, online, class...\n",
       "884     ([mistake, appear, report, understanding], [Cr...\n",
       "1441    ([receive, notice, debt, psc, regard, medical,...\n",
       "582     ([receive, current, copy, credit, report, disc...\n",
       "1515    ([check, steal, checkbook, cash, 2000.00, unkn...\n",
       "                              ...                        \n",
       "664     ([home, depot, credit, card, number, bill, mat...\n",
       "3125    ([lawsuit, judgment, file, defaulted, credit, ...\n",
       "1318    ([lie, payment, payment, harass, -+, collectio...\n",
       "723     ([party, involve, experian, dispute, departmen...\n",
       "2863    ([try, unsuccessfully, today, 2017, equifax, c...\n",
       "Length: 2509, dtype: object"
      ]
     },
     "execution_count": 50,
     "metadata": {},
     "output_type": "execute_result"
    }
   ],
   "source": [
    "# Train test split - same split as before\n",
    "train_tagged, test_tagged = train_test_split(sample_tagged, test_size=0.2, random_state=1234)\n",
    "\n",
    "train_tagged"
   ]
  },
  {
   "cell_type": "code",
   "execution_count": 51,
   "metadata": {
    "id": "tNGTNrwo7mhN"
   },
   "outputs": [
    {
     "data": {
      "text/plain": [
       "2624    ([inform, amazon, 1, year, purchase, accrue, i...\n",
       "2222    ([contact, company, having, receive, documenta...\n",
       "2992    ([wrong, information, order, steal, identity, ...\n",
       "1935    ([contact, ditech, financial, regard, incorrec...\n",
       "1616    ([document, home, loan, false, state, 2, loan,...\n",
       "                              ...                        \n",
       "1694    ([buy, piece, furniture, sofa, recliner, '', b...\n",
       "2666    ([hi, try, resolve, matter, company, phoenix, ...\n",
       "2082    ([spouse, visit, local, branch, security, fina...\n",
       "287     ([account, total, 9500.00, open, 2008, close, ...\n",
       "516     ([send, copy, bill, experian, bill, experian, ...\n",
       "Length: 628, dtype: object"
      ]
     },
     "execution_count": 51,
     "metadata": {},
     "output_type": "execute_result"
    }
   ],
   "source": [
    "test_tagged"
   ]
  },
  {
   "cell_type": "code",
   "execution_count": 52,
   "metadata": {
    "id": "AY_KwtL8ThRV"
   },
   "outputs": [],
   "source": [
    "# Allows to speed up a bit\n",
    "import multiprocessing\n",
    "cores = multiprocessing.cpu_count()"
   ]
  },
  {
   "cell_type": "code",
   "execution_count": 53,
   "metadata": {
    "id": "OhkoBMP_o0HN"
   },
   "outputs": [],
   "source": [
    "# Define Doc2Vec and build vocabulary\n",
    "from gensim.models import Doc2Vec\n",
    "\n",
    "model_dbow = Doc2Vec(dm=0, vector_size=30, negative=6, hs=0, min_count=1, sample=0, workers=cores)\n",
    "model_dbow.build_vocab([x for x in train_tagged.values])"
   ]
  },
  {
   "cell_type": "markdown",
   "metadata": {
    "id": "QqBwLmHGU8XD"
   },
   "source": [
    "We now train the distributed bag of words model. In short, it trains a neural network and the optimal weights are the coefficients of the vectors of the documents. Therefore, similar documents will be close to each other in the N-dimentional space (N being the size of the vectors). More information on this [here](https://thinkinfi.com/simple-doc2vec-explained/)."
   ]
  },
  {
   "cell_type": "code",
   "execution_count": 54,
   "metadata": {
    "id": "vDU2E5fCpHVj"
   },
   "outputs": [],
   "source": [
    "# Train distributed Bag of Word model\n",
    "model_dbow.train(train_tagged, total_examples=model_dbow.corpus_count, epochs=300)"
   ]
  },
  {
   "cell_type": "code",
   "execution_count": 55,
   "metadata": {
    "id": "1hq_UN6_U0hF"
   },
   "outputs": [],
   "source": [
    "# Select X and y\n",
    "def vec_for_learning(model, tagged_docs):\n",
    "    sents = tagged_docs.values\n",
    "    targets, regressors = zip(*[(doc.tags[0], model.infer_vector(doc.words, epochs=100)) for doc in sents])\n",
    "    return targets, regressors\n",
    "\n",
    "y_train, X_train = vec_for_learning(model_dbow, train_tagged)\n",
    "y_test, X_test = vec_for_learning(model_dbow, test_tagged)"
   ]
  },
  {
   "cell_type": "code",
   "execution_count": 56,
   "metadata": {
    "id": "O98HjFkWs6QI"
   },
   "outputs": [
    {
     "data": {
      "text/plain": [
       "(array([ 0.17506956, -0.31823397, -0.69335735, -0.02513   , -0.32764897,\n",
       "        -0.7644    , -0.6703356 , -0.9161136 , -0.4910298 , -0.5855878 ,\n",
       "        -0.39054266, -0.46618366,  0.45496255, -0.43801907, -0.28003708,\n",
       "        -0.27922508,  0.31863248,  1.1208963 ,  0.20633078, -1.0005575 ,\n",
       "        -0.4913245 , -0.9546513 , -1.5447541 ,  0.01186735,  0.34488449,\n",
       "         0.02123836, -0.49661547, -0.51141626, -0.51482445,  0.08559759],\n",
       "       dtype=float32),\n",
       " array([ 0.17881514,  0.02323485, -1.1222087 ,  1.3597426 , -0.47079995,\n",
       "        -0.01494664, -0.61730814, -1.0862181 ,  0.06830471,  0.5302344 ,\n",
       "        -0.15921727,  0.47266006, -0.5644927 ,  0.07339415, -0.06827904,\n",
       "        -0.54450315,  0.8223044 ,  0.4884405 ,  0.084347  , -0.76376265,\n",
       "        -0.1683669 , -0.5209403 , -0.93486184,  0.03069505,  0.3929121 ,\n",
       "         0.81113297, -0.5649017 , -0.39229447,  0.30646876, -0.28437394],\n",
       "       dtype=float32),\n",
       " array([ 0.00269613,  0.4535472 , -1.2866927 , -0.48519507,  0.37377927,\n",
       "        -0.04000927, -0.32797933, -0.8571298 , -0.36753857,  0.08189982,\n",
       "         1.3323267 , -0.6970944 , -0.06324609, -0.85767746,  1.209149  ,\n",
       "         0.07692173, -0.09440071,  0.8158864 ,  0.65244806, -0.17459068,\n",
       "        -0.17799239,  0.596914  , -0.41643488, -1.1735681 ,  1.1705759 ,\n",
       "         0.99221694, -0.11351045,  0.09329312, -0.58441293,  0.7273857 ],\n",
       "       dtype=float32))"
      ]
     },
     "execution_count": 56,
     "metadata": {},
     "output_type": "execute_result"
    }
   ],
   "source": [
    "# Each document (i.e. complaint) is now a vector in the space of 30 dimentions.\n",
    "# Similar complaints should have similar vector representation.\n",
    "X_train[:3]"
   ]
  },
  {
   "cell_type": "code",
   "execution_count": 57,
   "metadata": {
    "id": "j0fd2XSFVz1r"
   },
   "outputs": [
    {
     "name": "stdout",
     "output_type": "stream",
     "text": [
      "0.6752\n"
     ]
    },
    {
     "data": {
      "image/png": "[encoded data removed]",
      "text/plain": [
       "<Figure size 1500x1500 with 2 Axes>"
      ]
     },
     "metadata": {},
     "output_type": "display_data"
    }
   ],
   "source": [
    "# Fit model on training set - same algorithm as before\n",
    "logreg = LogisticRegression(max_iter=1000, solver='lbfgs')\n",
    "logreg.fit(X_train, y_train)\n",
    "\n",
    "# Predictions\n",
    "y_pred = logreg.predict(X_test)\n",
    "\n",
    "# Evaluate model\n",
    "print(round(accuracy_score(y_test, y_pred), 4))\n",
    "conf_mat = confusion_matrix(y_test, y_pred)\n",
    "fig, ax = plt.subplots(figsize=(15,15))\n",
    "sns.heatmap(conf_mat, annot=True, fmt='d')\n",
    "plt.ylabel('Actual')\n",
    "plt.xlabel('Predicted')\n",
    "plt.show()"
   ]
  },
  {
   "cell_type": "markdown",
   "metadata": {
    "id": "k_jHZwiHjnu_"
   },
   "source": [
    "## References\n",
    "* https://towardsdatascience.com/multi-class-text-classification-with-doc2vec-logistic-regression-9da9947b43f4\n",
    "* https://towardsdatascience.com/multi-class-text-classification-with-scikit-learn-12f1e60e0a9f"
   ]
  }
 ],
 "metadata": {
  "colab": {
   "collapsed_sections": [],
   "include_colab_link": true,
   "name": "Text_Analytics_2.ipynb",
   "provenance": []
  },
  "kernelspec": {
   "display_name": "Python 3 (ipykernel)",
   "language": "python",
   "name": "python3"
  },
  "language_info": {
   "codemirror_mode": {
    "name": "ipython",
    "version": 3
   },
   "file_extension": ".py",
   "mimetype": "text/x-python",
   "name": "python",
   "nbconvert_exporter": "python",
   "pygments_lexer": "ipython3",
   "version": "3.8.8"
  }
 },
 "nbformat": 4,
 "nbformat_minor": 1
}
